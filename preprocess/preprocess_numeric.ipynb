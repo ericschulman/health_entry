{
 "cells": [
  {
   "cell_type": "code",
   "execution_count": 1,
   "id": "01ee97aa",
   "metadata": {},
   "outputs": [],
   "source": [
    "import pandas as pd\n",
    "import numpy as np\n",
    "import re"
   ]
  },
  {
   "cell_type": "code",
   "execution_count": 2,
   "id": "073d407d",
   "metadata": {},
   "outputs": [
    {
     "name": "stderr",
     "output_type": "stream",
     "text": [
      "/home/erichschulman/anaconda3/lib/python3.8/site-packages/IPython/core/interactiveshell.py:3165: DtypeWarning: Columns (31,79,80,81,85,86,87,88,89,90,135,136,137,138) have mixed types.Specify dtype option on import or set low_memory=False.\n",
      "  has_raised = await self.run_ast_nodes(code_ast.body, cell_name,\n"
     ]
    }
   ],
   "source": [
    "column_info = pd.read_csv('../data/processed_data/plan_summary.csv')\n",
    "plan_data = pd.read_csv('../data/data_2016/Plan_Attributes_PUF_2016.csv')"
   ]
  },
  {
   "cell_type": "code",
   "execution_count": 3,
   "id": "24896a02",
   "metadata": {},
   "outputs": [],
   "source": [
    "act_value = plan_data[['IssuerActuarialValue','AVCalculatorOutputNumber']].copy()\n",
    "\n",
    "act_value =  act_value.fillna(0)\n",
    "act_value['IssuerActuarialValue'] = act_value['IssuerActuarialValue'].apply( lambda x: float(str(x).replace('%','')) )\n",
    "act_value['AVCalculatorOutputNumber'] = act_value['AVCalculatorOutputNumber']*100\n",
    "act_value['act_value'] = act_value.max(axis=1)\n",
    "\n",
    "plan_data['act_value'] = act_value['act_value']"
   ]
  },
  {
   "cell_type": "code",
   "execution_count": 4,
   "id": "a77b21ac",
   "metadata": {},
   "outputs": [
    {
     "name": "stdout",
     "output_type": "stream",
     "text": [
      "Index(['ServiceAreaId', 'IssuerId', 'TEHBCombInnOonIndividualMOOP',\n",
      "       'TEHBOutOfNetFamilyPerPersonMOOP',\n",
      "       'OutOfServiceAreaCoverageDescription', 'TEHBInnTier1FamilyPerGroupMOOP',\n",
      "       'SBCHavingaBabyCopayment', 'SBCHavingDiabetesCopayment',\n",
      "       'SBCHavingDiabetesDeductible', 'TEHBOutOfNetFamilyPerGroupMOOP',\n",
      "       'TEHBCombInnOonFamilyPerGroupMOOP', 'TEHBCombInnOonFamilyPerPersonMOOP',\n",
      "       'SBCHavingaBabyCoinsurance', 'SBCHavingaBabyDeductible',\n",
      "       'TEHBInnTier1FamilyPerPersonMOOP', 'SBCHavingDiabetesCoinsurance',\n",
      "       'act_value', 'TEHBInnTier1IndividualMOOP', 'TEHBOutOfNetIndividualMOOP',\n",
      "       'EHBPercentTotalPremium'],\n",
      "      dtype='object')\n"
     ]
    }
   ],
   "source": [
    "good_columns = column_info['Column_Name'][ (column_info['Missing_Values'] <= 3000) & (column_info['Missing_Values'] >= 0) & (column_info['Unique_Values'] >= 90) \n",
    "                  & (column_info['Unique_Values'] <= 370) ]\n",
    "good_columns = list(good_columns) + ['act_value']\n",
    "\n",
    "#fix the set of columns to remove bad ones\n",
    "bad_columns = ['SBCHavingSimplefractureCoinsurance', \n",
    " 'SBCHavingSimplefractureCopayment', 'SBCHavingSimplefractureDeductible', 'ServiceAreaID']\n",
    "good_columns = list(set(good_columns) - set(bad_columns))\n",
    "\n",
    "\n",
    "# https://stackoverflow.com/questions/4703390/how-to-extract-a-floating-number-from-a-string\n",
    "clean_columns = plan_data[['ServiceAreaId','IssuerId']].copy()\n",
    "\n",
    "for column in good_columns:\n",
    "    #try to extract the text\n",
    "    test_column = plan_data[column].copy()\n",
    "    test_column = test_column.fillna(0)\n",
    "    \n",
    "    #if its just an int go with that\n",
    "    int_column = test_column.apply(lambda x : float( (re.findall(r'^-?\\d+(?:\\.\\d+)$',str(x)) +['0']) [0]) )\n",
    "    if int_column.nunique() >= 3:\n",
    "        clean_columns[column] = int_column\n",
    "        \n",
    "    #otherwise try something else\n",
    "    dollar_column = test_column.apply(lambda x : int((re.findall('\\\\$(\\\\d+)',str(x) ) +['0'])[0]) )\n",
    "    if dollar_column.nunique() >= 3:\n",
    "        clean_columns[column] = dollar_column\n",
    "\n",
    "print(clean_columns.columns)\n",
    "\n",
    "\n",
    "#IssuerActuarialValue, AVCalculatorOutputNumber"
   ]
  },
  {
   "cell_type": "code",
   "execution_count": 5,
   "id": "dacf232c",
   "metadata": {},
   "outputs": [],
   "source": [
    "clean_columns.describe()\n",
    "clean_columns.to_csv('../data/processed_data/issuer_numeric.csv')"
   ]
  },
  {
   "cell_type": "code",
   "execution_count": null,
   "id": "3d871bba",
   "metadata": {},
   "outputs": [],
   "source": []
  },
  {
   "cell_type": "code",
   "execution_count": null,
   "id": "21a9e63e",
   "metadata": {},
   "outputs": [],
   "source": []
  },
  {
   "cell_type": "code",
   "execution_count": null,
   "id": "bc712d96",
   "metadata": {},
   "outputs": [],
   "source": []
  },
  {
   "cell_type": "code",
   "execution_count": null,
   "id": "1ef05c1c",
   "metadata": {},
   "outputs": [],
   "source": []
  }
 ],
 "metadata": {
  "kernelspec": {
   "display_name": "Python 3",
   "language": "python",
   "name": "python3"
  },
  "language_info": {
   "codemirror_mode": {
    "name": "ipython",
    "version": 3
   },
   "file_extension": ".py",
   "mimetype": "text/x-python",
   "name": "python",
   "nbconvert_exporter": "python",
   "pygments_lexer": "ipython3",
   "version": "3.8.8"
  }
 },
 "nbformat": 4,
 "nbformat_minor": 5
}
