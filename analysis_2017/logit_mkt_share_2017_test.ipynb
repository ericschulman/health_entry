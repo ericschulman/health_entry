{
 "cells": [
  {
   "cell_type": "code",
   "execution_count": 1,
   "id": "8bed8808",
   "metadata": {},
   "outputs": [],
   "source": [
    "import pandas as pd\n",
    "import numpy as np\n",
    "import matplotlib.pylab as plt\n",
    "import random\n",
    "\n",
    "import statsmodels.api as sm\n",
    "from sklearn.model_selection import train_test_split"
   ]
  },
  {
   "cell_type": "code",
   "execution_count": 2,
   "id": "40572c2e",
   "metadata": {
    "scrolled": false
   },
   "outputs": [
    {
     "name": "stderr",
     "output_type": "stream",
     "text": [
      "/tmp/ipykernel_99481/3797826496.py:53: SettingWithCopyWarning: \n",
      "A value is trying to be set on a copy of a slice from a DataFrame.\n",
      "Try using .loc[row_indexer,col_indexer] = value instead\n",
      "\n",
      "See the caveats in the documentation: https://pandas.pydata.org/pandas-docs/stable/user_guide/indexing.html#returning-a-view-versus-a-copy\n",
      "  blp_data[col] = blp_data[col]/blp_data[col].var()\n"
     ]
    }
   ],
   "source": [
    "df1 = pd.read_csv('../data/processed_data/merged_characteristics.csv')\n",
    "df2 = pd.read_csv('../data/processed_data/merged_characteristics_2017.csv')\n",
    "\n",
    "#create mkt share data\n",
    "blp_keys = ['market_ids', 'product_ids', 'firm_ids', 'shares', 'prices','demand_instruments0']\n",
    "\n",
    "nonlinear_cols = ['csr_pay_94','EHBPercentTotalPremium']#,'SBCHavingDiabetesCopayment','SBCHavingaBabyCoinsurance']\n",
    "#['act_value','csr_pay_94','csr_pay_87','SBCHavingDiabetesCopayment','SBCHavingaBabyCoinsurance']\n",
    "\n",
    "linear_cols = [ 'act_value','MetalLevel_Platinum', 'MetalLevel_Silver','Plan Counts']#\n",
    "#['CompositeRatingOffered_No','MetalLevel_Silver','MetalLevel_Platinum',\n",
    "# 'BeginPrimaryCareCostSharingAfterNumberOfVisits' , 'csr_tot', 'csr_tot_94', 'PlanType_Indemnity']            \n",
    "#'CSRVariationTypeBinary','DentalOnlyPlan_No','CompositeRatingOffered_No',\n",
    "\n",
    "firm_cols =  linear_cols+ nonlinear_cols    \n",
    "mkt_cols = [ 'DP05_0015PE' ,'DP05_0069PE','S1701_C01_017E','StateCodeFL'] #'DP03_0001PE'\n",
    "\n",
    "\n",
    "keys = ['HIOS ID', 'IssuerId', 'County', 'State', 'FIPS County Code', 'Policy County FIPS Code','County Name']\n",
    "\n",
    "def create_blp_data(df):\n",
    "    \n",
    "    #create market data...\n",
    "    df['shares'] = df['Ever Enrolled Count']/df['DP03_0095E']\n",
    "\n",
    "    #add blp columns\n",
    "    df['prices'] = df['PREMI27']\n",
    "    df['product_ids'] = df['IssuerId'].astype(str) +  df['County'].astype(str) \n",
    "    df['market_ids'] = df['County']\n",
    "    df['firm_ids'] = df['IssuerId']\n",
    "\n",
    "    #demand_instrument0\n",
    "    MktIds = np.array(pd.get_dummies(df['IssuerId']))\n",
    "    MktIds2 = (MktIds.T).dot(MktIds)\n",
    "    dummies_proj = MktIds.dot( np.linalg.inv( MktIds2 ) ).dot( MktIds.T )\n",
    "    df['demand_instruments0'] = dummies_proj.dot(df['prices']) #average price across markets\n",
    "\n",
    "\n",
    "    #fix problematic columns =\n",
    "    df = df.rename(columns={'Average Monthly Advanced CSR Payment for Consumers with 94%':'csr_pay_94',\n",
    "                      'Average Monthly Advanced CSR Payment for Consumers with 87%':'csr_pay_87',\n",
    "                           'Total Number of Consumers':'csr_tot',\n",
    "                            'Number of Consumers with CSR AV of 94%':'csr_tot_94'})\n",
    "\n",
    "    #'DP05_0072PE', ,\n",
    "\n",
    "    blp_data = df[blp_keys+linear_cols+nonlinear_cols+mkt_cols+['DP03_0095E']]\n",
    "\n",
    "\n",
    "    #standardize the cols\n",
    "    for col in firm_cols:\n",
    "        #this line is causing a warning?\n",
    "        blp_data[col] = blp_data[col]/blp_data[col].var()\n",
    "\n",
    "    #zero shares are not okay?\n",
    "    blp_data = blp_data[blp_data['shares']!=0]\n",
    "    return blp_data,df\n",
    "    \n",
    "X_train,df1 = create_blp_data(df1)\n",
    "X_test,df2 = create_blp_data(df2)\n",
    "X_test  = X_test.fillna(0)"
   ]
  },
  {
   "cell_type": "code",
   "execution_count": 3,
   "id": "8ee38370",
   "metadata": {},
   "outputs": [
    {
     "name": "stdout",
     "output_type": "stream",
     "text": [
      "Optimization terminated successfully.\n",
      "         Current function value: 0.015554\n",
      "         Iterations 9\n",
      "                           Logit Regression Results                           \n",
      "==============================================================================\n",
      "Dep. Variable:                 shares   No. Observations:                 8017\n",
      "Model:                          Logit   Df Residuals:                     8005\n",
      "Method:                           MLE   Df Model:                           11\n",
      "Date:                Wed, 27 Apr 2022   Pseudo R-squ.:                     inf\n",
      "Time:                        19:40:53   Log-Likelihood:                -124.70\n",
      "converged:                       True   LL-Null:                        0.0000\n",
      "Covariance Type:            nonrobust   LLR p-value:                     1.000\n",
      "==========================================================================================\n",
      "                             coef    std err          z      P>|z|      [0.025      0.975]\n",
      "------------------------------------------------------------------------------------------\n",
      "const                     -5.2532      0.563     -9.327      0.000      -6.357      -4.149\n",
      "act_value                  4.7902     11.257      0.426      0.670     -17.274      26.854\n",
      "MetalLevel_Platinum        0.0013      0.006      0.231      0.817      -0.010       0.012\n",
      "MetalLevel_Silver         -0.0079      0.049     -0.162      0.872      -0.104       0.088\n",
      "Plan Counts                1.3322      1.001      1.331      0.183      -0.629       3.293\n",
      "csr_pay_94                 1.8032      3.309      0.545      0.586      -4.682       8.289\n",
      "EHBPercentTotalPremium    -0.0503      0.157     -0.321      0.749      -0.358       0.257\n",
      "DP05_0015PE                0.1203      0.056      2.142      0.032       0.010       0.230\n",
      "DP05_0069PE                0.0224      0.071      0.317      0.751      -0.116       0.161\n",
      "S1701_C01_017E         -1.041e-05   9.29e-05     -0.112      0.911      -0.000       0.000\n",
      "StateCodeFL               -0.0873      0.671     -0.130      0.896      -1.401       1.227\n",
      "prices                    -0.0005      0.002     -0.269      0.788      -0.004       0.003\n",
      "==========================================================================================\n"
     ]
    },
    {
     "name": "stderr",
     "output_type": "stream",
     "text": [
      "/home/erichschulman/anaconda3/lib/python3.9/site-packages/statsmodels/tsa/tsatools.py:142: FutureWarning: In a future version of pandas all arguments of concat except for the argument 'objs' will be keyword-only\n",
      "  x = pd.concat(x[::order], 1)\n",
      "/home/erichschulman/anaconda3/lib/python3.9/site-packages/statsmodels/discrete/discrete_model.py:3500: RuntimeWarning: divide by zero encountered in double_scalars\n",
      "  return 1 - self.llf/self.llnull\n",
      "/home/erichschulman/anaconda3/lib/python3.9/site-packages/statsmodels/tsa/tsatools.py:142: FutureWarning: In a future version of pandas all arguments of concat except for the argument 'objs' will be keyword-only\n",
      "  x = pd.concat(x[::order], 1)\n"
     ]
    }
   ],
   "source": [
    "#split into training and test\n",
    "\n",
    "model = sm.Logit(X_train['shares'],\n",
    "                 sm.add_constant(X_train[linear_cols+nonlinear_cols+mkt_cols+['prices']]))\n",
    "model_fit = model.fit()\n",
    "print(model_fit.summary())\n",
    "pred_shares = model_fit.predict(\n",
    "    sm.add_constant(X_test[linear_cols+nonlinear_cols+mkt_cols+['prices']]))\n",
    "train_shares = model_fit.predict(\n",
    "    sm.add_constant(X_train[linear_cols+nonlinear_cols+mkt_cols+['prices']]))"
   ]
  },
  {
   "cell_type": "code",
   "execution_count": 4,
   "id": "011b19f8",
   "metadata": {},
   "outputs": [
    {
     "name": "stdout",
     "output_type": "stream",
     "text": [
      "mse 24648019.689053353 r2 0.3867685925784935 var 40193668.14999327\n",
      "pred 2016 12374212.738298923 actual 2016 9870266.0\n",
      "pred mean 2016 1543.4966618808628 mean 2016 1231.167020082325\n",
      "pred 2017 10719160.923392065 actual 2017 9167619.0\n",
      "pred mean 2017 1972.9727449644859 mean 2017 1687.3953616786305\n"
     ]
    },
    {
     "data": {
      "image/png": "[encoded data removed]",
      "text/plain": [
       "<Figure size 432x288 with 1 Axes>"
      ]
     },
     "metadata": {
      "needs_background": "light"
     },
     "output_type": "display_data"
    },
    {
     "data": {
      "image/png": "[encoded data removed]",
      "text/plain": [
       "<Figure size 432x288 with 1 Axes>"
      ]
     },
     "metadata": {
      "needs_background": "light"
     },
     "output_type": "display_data"
    }
   ],
   "source": [
    "#evaluating model fit...\n",
    "error = (X_test['shares']- pred_shares)*X_test['DP03_0095E']\n",
    "true_shares = X_test['shares']*X_test['DP03_0095E']\n",
    "\n",
    "\n",
    "mse  = float( (error**2).mean() ) \n",
    "r2 = float( 1 - (error**2).mean()/true_shares.var() )\n",
    "print( 'mse', mse, 'r2', r2,'var', true_shares.var())\n",
    "print('pred 2016',  (train_shares*X_train['DP03_0095E']).sum(),\n",
    "      'actual 2016', (X_train['DP03_0095E']*X_train['shares']).sum())\n",
    "\n",
    "print('pred mean 2016',  (train_shares*X_train['DP03_0095E']).mean(),\n",
    "      'mean 2016', (X_train['DP03_0095E']*X_train['shares']).mean())\n",
    "\n",
    "print('pred 2017', (pred_shares*X_test['DP03_0095E']).sum() , 'actual 2017', float(true_shares.sum()) )\n",
    "print('pred mean 2017', (pred_shares*X_test['DP03_0095E']).mean() , 'mean 2017', float(true_shares.mean()) )\n",
    "\n",
    "blp_pred = pred_shares*X_test['DP03_0095E']\n",
    "true_shares = X_test['shares']*X_test['DP03_0095E']\n",
    "\n",
    "split = 5000\n",
    "plt.title('>'+str(split))\n",
    "plt.hist(blp_pred[true_shares >=split],label='True',alpha=.5,density=True)\n",
    "plt.hist(true_shares[true_shares >=split],label='logit',alpha = .5,density=True)\n",
    "plt.legend()\n",
    "plt.show()\n",
    "\n",
    "\n",
    "plt.title('<'+str(split))\n",
    "plt.hist(blp_pred[true_shares <=split],label='True',alpha=.5,density=True)\n",
    "plt.hist(true_shares[true_shares <=split],label='logit',alpha = .5,density=True)\n",
    "plt.legend()\n",
    "plt.show()"
   ]
  },
  {
   "cell_type": "code",
   "execution_count": 5,
   "id": "38e72e18",
   "metadata": {
    "scrolled": false
   },
   "outputs": [
    {
     "name": "stdout",
     "output_type": "stream",
     "text": [
      "               pred  Ever Enrolled Count      pred_var    enroll_var  count\n",
      "State                                                                      \n",
      "IL     95737.293037         47726.333333  23737.896927  28674.570970      3\n",
      "AZ     55777.775548        102128.000000           NaN           NaN      1\n",
      "NV     32741.050070          2607.000000           NaN           NaN      1\n",
      "TX     31291.426651         43531.000000  18398.021483  39703.850465     10\n",
      "FL     29285.372112         46850.062500   9530.705852  60158.196128     16\n",
      "PA     28258.298196          5401.000000   8938.955214   7256.329789      2\n",
      "MI     26959.423911          1863.571429   4036.243600   1242.482174      7\n",
      "WI     20749.127858          1492.000000           NaN           NaN      1\n",
      "OH     20016.554834           839.000000           NaN           NaN      1\n",
      "VA     15687.393032         35581.000000           NaN           NaN      1\n",
      "OK     13467.104665         32912.000000           NaN           NaN      1\n",
      "NC     13201.829911         46566.333333   4275.459990  18071.783872      3\n",
      "GA     12553.696605         52231.000000           NaN           NaN      1\n",
      "UT      8389.087063         32991.500000   4957.422092  10560.639777      2\n"
     ]
    }
   ],
   "source": [
    "def report_error(X_test,pred_shares):\n",
    "    pred_shares = np.array(pred_shares.copy())\n",
    "    X_test = X_test.copy()\n",
    "    X_test['error'] =  ((X_test['shares']- pred_shares)*X_test['DP03_0095E'])**2\n",
    "    X_test['pred'] = pred_shares*X_test['DP03_0095E']\n",
    "    result = X_test.merge(df2, how='inner',left_index=True, right_index=True,suffixes=('_x',''))    \n",
    "    result = result.sort_values('error',ascending=False).head(50) \n",
    "    \n",
    "    result_groupby = result.groupby('State')[['pred','Ever Enrolled Count','prices','csr_tot']].mean()\n",
    "    result_groupby = result.groupby('State')[['pred','Ever Enrolled Count']].mean()\n",
    "    result_groupby[['pred_var','enroll_var']] = result.groupby('State')[['pred','Ever Enrolled Count']].std()\n",
    "    result_groupby['count'] =result.groupby('State')['shares'].count()\n",
    "    result_groupby = result_groupby.sort_values('pred',ascending=False)\n",
    "    return result_groupby\n",
    "\n",
    "print(report_error(X_test,pred_shares))"
   ]
  },
  {
   "cell_type": "markdown",
   "id": "41a9cfb7",
   "metadata": {},
   "source": [
    "# comparing market structure in the 2 years"
   ]
  },
  {
   "cell_type": "code",
   "execution_count": 6,
   "id": "52cd858b",
   "metadata": {},
   "outputs": [
    {
     "name": "stdout",
     "output_type": "stream",
     "text": [
      "       Ever Enrolled Count      prices  MetalLevel_Silver        csr_tot  \\\n",
      "State                                                                      \n",
      "NE              136.000000  311.953438           0.354167     202.583333   \n",
      "UT             2129.600000  172.391400           0.240000    1911.000000   \n",
      "MT              199.000000   45.674583           0.083333     233.833333   \n",
      "NC             2907.600000  316.941333           0.400000    2882.600000   \n",
      "TX              130.666667  169.886111           0.333333     131.666667   \n",
      "VA              660.666667  160.690435           0.347826     613.666667   \n",
      "FL           201162.000000  226.928667           0.266667  317342.500000   \n",
      "ME             3821.000000    0.000000           0.000000    5032.500000   \n",
      "ND              108.000000    0.000000           0.000000     126.000000   \n",
      "WY             2319.500000    0.000000           0.000000    2087.000000   \n",
      "AK               86.000000    0.000000           0.000000     176.000000   \n",
      "MO              607.000000  256.775714           0.380952     670.000000   \n",
      "WI             1086.000000   71.511154           0.551282    1114.000000   \n",
      "\n",
      "       count  \n",
      "State         \n",
      "NE        12  \n",
      "UT        10  \n",
      "MT         6  \n",
      "NC         5  \n",
      "TX         3  \n",
      "VA         3  \n",
      "FL         2  \n",
      "ME         2  \n",
      "ND         2  \n",
      "WY         2  \n",
      "AK         1  \n",
      "MO         1  \n",
      "WI         1  \n"
     ]
    },
    {
     "data": {
      "image/png": "[encoded data removed]",
      "text/plain": [
       "<Figure size 432x288 with 1 Axes>"
      ]
     },
     "metadata": {
      "needs_background": "light"
     },
     "output_type": "display_data"
    }
   ],
   "source": [
    "highest_shares = df1[['shares','IssuerId','State','County Name',\n",
    "          'Ever Enrolled Count','DP03_0095E','act_value','prices','MetalLevel_Silver',\n",
    "    'csr_tot','csr_pay_94']].sort_values('shares',ascending=False).head(50)\n",
    "\n",
    "\n",
    "highest_share_groupy = highest_shares.groupby('State')[['Ever Enrolled Count','prices','MetalLevel_Silver','csr_tot']].mean()\n",
    "highest_share_groupy['count'] =highest_shares.groupby('State')['shares'].count()\n",
    "highest_share_groupy = highest_share_groupy.sort_values('count',ascending=False)\n",
    "print(highest_share_groupy)\n",
    "\n",
    "plt.hist(df1['prices'][df1['prices']>=.1])\n",
    "plt.show()"
   ]
  },
  {
   "cell_type": "code",
   "execution_count": 7,
   "id": "a7175917",
   "metadata": {},
   "outputs": [
    {
     "name": "stdout",
     "output_type": "stream",
     "text": [
      "       Ever Enrolled Count      prices  MetalLevel_Silver  csr_tot  count\n",
      "State                                                                    \n",
      "0              1020.250000    0.000000           0.000000      0.0     36\n",
      "NC             6876.500000  334.591364           0.363636      0.0      4\n",
      "TX              864.500000  251.822530           0.468623      0.0      4\n",
      "MT              176.666667  389.911000           0.300000      0.0      3\n",
      "FL           232412.000000  271.446000           0.400000      0.0      1\n",
      "VA              197.000000  191.571136           0.363636      0.0      1\n",
      "WI             2257.000000  318.144000           0.400000      0.0      1\n"
     ]
    },
    {
     "data": {
      "image/png": "[encoded data removed]",
      "text/plain": [
       "<Figure size 432x288 with 1 Axes>"
      ]
     },
     "metadata": {
      "needs_background": "light"
     },
     "output_type": "display_data"
    }
   ],
   "source": [
    "highest_shares = df2[['shares','IssuerId','State','County',\n",
    "          'Ever Enrolled Count','DP03_0095E','act_value','prices','MetalLevel_Silver',\n",
    "    'csr_tot','csr_pay_94']].sort_values('shares',ascending=False).head(50)\n",
    "\n",
    "\n",
    "highest_share_groupy = highest_shares.groupby('State')[['Ever Enrolled Count','prices','MetalLevel_Silver','csr_tot']].mean()\n",
    "highest_share_groupy['count'] =highest_shares.groupby('State')['shares'].count()\n",
    "highest_share_groupy = highest_share_groupy.sort_values('count',ascending=False)\n",
    "print(highest_share_groupy)\n",
    "\n",
    "plt.hist(df2['prices'][df2['prices']>=.1])\n",
    "plt.show()"
   ]
  },
  {
   "cell_type": "code",
   "execution_count": null,
   "id": "b34a6583",
   "metadata": {},
   "outputs": [],
   "source": []
  }
 ],
 "metadata": {
  "kernelspec": {
   "display_name": "Python 3 (ipykernel)",
   "language": "python",
   "name": "python3"
  },
  "language_info": {
   "codemirror_mode": {
    "name": "ipython",
    "version": 3
   },
   "file_extension": ".py",
   "mimetype": "text/x-python",
   "name": "python",
   "nbconvert_exporter": "python",
   "pygments_lexer": "ipython3",
   "version": "3.9.7"
  }
 },
 "nbformat": 4,
 "nbformat_minor": 5
}
