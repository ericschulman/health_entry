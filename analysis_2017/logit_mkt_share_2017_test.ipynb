{
 "cells": [
  {
   "cell_type": "code",
   "execution_count": 1,
   "id": "8bed8808",
   "metadata": {},
   "outputs": [],
   "source": [
    "import pandas as pd\n",
    "import numpy as np\n",
    "import matplotlib.pylab as plt\n",
    "import random\n",
    "\n",
    "import statsmodels.api as sm\n",
    "from sklearn.model_selection import train_test_split"
   ]
  },
  {
   "cell_type": "code",
   "execution_count": 2,
   "id": "40572c2e",
   "metadata": {
    "scrolled": false
   },
   "outputs": [
    {
     "name": "stderr",
     "output_type": "stream",
     "text": [
      "/tmp/ipykernel_46033/3897991338.py:52: SettingWithCopyWarning: \n",
      "A value is trying to be set on a copy of a slice from a DataFrame.\n",
      "Try using .loc[row_indexer,col_indexer] = value instead\n",
      "\n",
      "See the caveats in the documentation: https://pandas.pydata.org/pandas-docs/stable/user_guide/indexing.html#returning-a-view-versus-a-copy\n",
      "  blp_data[col] = blp_data[col]/blp_data[col].var()\n"
     ]
    }
   ],
   "source": [
    "df1 = pd.read_csv('../data/processed_data/merged_characteristics.csv')\n",
    "df2 = pd.read_csv('../data/processed_data/merged_characteristics_2017.csv')\n",
    "\n",
    "#create mkt share data\n",
    "blp_keys = ['market_ids', 'product_ids', 'firm_ids', 'shares', 'prices','demand_instruments0']\n",
    "\n",
    "nonlinear_cols = ['csr_pay_94','EHBPercentTotalPremium']#,'SBCHavingDiabetesCopayment','SBCHavingaBabyCoinsurance']\n",
    "#['act_value','csr_pay_94','csr_pay_87','SBCHavingDiabetesCopayment','SBCHavingaBabyCoinsurance']\n",
    "\n",
    "linear_cols = [ 'act_value','MetalLevel_Platinum', 'MetalLevel_Silver']\n",
    "#['CompositeRatingOffered_No','MetalLevel_Silver','MetalLevel_Platinum',\n",
    "# 'BeginPrimaryCareCostSharingAfterNumberOfVisits' , 'csr_tot', 'csr_tot_94', 'PlanType_Indemnity']            \n",
    "#'CSRVariationTypeBinary','DentalOnlyPlan_No','CompositeRatingOffered_No',\n",
    "\n",
    "firm_cols =  linear_cols+ nonlinear_cols    \n",
    "mkt_cols = [ 'DP05_0015PE' ,'DP05_0069PE','S1701_C01_017E'] #'DP03_0001PE'\n",
    "\n",
    "keys = ['HIOS ID', 'IssuerId', 'County', 'State', 'FIPS County Code', 'Policy County FIPS Code','County Name']\n",
    "\n",
    "def create_blp_data(df):\n",
    "    \n",
    "    #create market data...\n",
    "    df['shares'] = df['Ever Enrolled Count']/df['DP03_0095E']\n",
    "\n",
    "    #add blp columns\n",
    "    df['prices'] = df['PREMI27']\n",
    "    df['product_ids'] = df['IssuerId'].astype(str) +  df['County'].astype(str) \n",
    "    df['market_ids'] = df['County']\n",
    "    df['firm_ids'] = df['IssuerId']\n",
    "\n",
    "    #demand_instrument0\n",
    "    MktIds = np.array(pd.get_dummies(df['IssuerId']))\n",
    "    MktIds2 = (MktIds.T).dot(MktIds)\n",
    "    dummies_proj = MktIds.dot( np.linalg.inv( MktIds2 ) ).dot( MktIds.T )\n",
    "    df['demand_instruments0'] = dummies_proj.dot(df['prices']) #average price across markets\n",
    "\n",
    "\n",
    "    #fix problematic columns =\n",
    "    df = df.rename(columns={'Average Monthly Advanced CSR Payment for Consumers with 94%':'csr_pay_94',\n",
    "                      'Average Monthly Advanced CSR Payment for Consumers with 87%':'csr_pay_87',\n",
    "                           'Total Number of Consumers':'csr_tot',\n",
    "                            'Number of Consumers with CSR AV of 94%':'csr_tot_94'})\n",
    "\n",
    "    #'DP05_0072PE', ,\n",
    "\n",
    "    blp_data = df[blp_keys+linear_cols+nonlinear_cols+mkt_cols+['DP03_0095E']]\n",
    "\n",
    "\n",
    "    #standardize the cols\n",
    "    for col in firm_cols:\n",
    "        #this line is causing a warning?\n",
    "        blp_data[col] = blp_data[col]/blp_data[col].var()\n",
    "\n",
    "    #zero shares are not okay?\n",
    "    blp_data = blp_data[blp_data['shares']!=0]\n",
    "    return blp_data,df\n",
    "    \n",
    "X_train,df1 = create_blp_data(df1)\n",
    "X_test,df2 = create_blp_data(df2)\n",
    "X_test  = X_test.fillna(0)"
   ]
  },
  {
   "cell_type": "code",
   "execution_count": 3,
   "id": "8ee38370",
   "metadata": {},
   "outputs": [
    {
     "name": "stderr",
     "output_type": "stream",
     "text": [
      "/home/erichschulman/anaconda3/lib/python3.9/site-packages/statsmodels/tsa/tsatools.py:142: FutureWarning: In a future version of pandas all arguments of concat except for the argument 'objs' will be keyword-only\n",
      "  x = pd.concat(x[::order], 1)\n"
     ]
    },
    {
     "name": "stdout",
     "output_type": "stream",
     "text": [
      "Optimization terminated successfully.\n",
      "         Current function value: 0.016099\n",
      "         Iterations 9\n",
      "                           Logit Regression Results                           \n",
      "==============================================================================\n",
      "Dep. Variable:                 shares   No. Observations:                 5350\n",
      "Model:                          Logit   Df Residuals:                     5340\n",
      "Method:                           MLE   Df Model:                            9\n",
      "Date:                Tue, 26 Apr 2022   Pseudo R-squ.:                     inf\n",
      "Time:                        16:47:42   Log-Likelihood:                -86.131\n",
      "converged:                       True   LL-Null:                        0.0000\n",
      "Covariance Type:            nonrobust   LLR p-value:                     1.000\n",
      "==========================================================================================\n",
      "                             coef    std err          z      P>|z|      [0.025      0.975]\n",
      "------------------------------------------------------------------------------------------\n",
      "const                     -3.8381      2.045     -1.876      0.061      -7.847       0.171\n",
      "act_value                 -0.4811      0.763     -0.630      0.528      -1.977       1.015\n",
      "MetalLevel_Platinum        0.0061      0.008      0.750      0.453      -0.010       0.022\n",
      "MetalLevel_Silver          0.0053      0.016      0.339      0.735      -0.025       0.036\n",
      "csr_pay_94                 1.4040      3.159      0.444      0.657      -4.788       7.596\n",
      "EHBPercentTotalPremium    -0.0008      0.025     -0.032      0.975      -0.050       0.049\n",
      "DP05_0015PE                0.1274      0.066      1.942      0.052      -0.001       0.256\n",
      "DP05_0069PE                0.0127      0.071      0.178      0.859      -0.127       0.152\n",
      "S1701_C01_017E         -4.561e-06      0.000     -0.022      0.982      -0.000       0.000\n",
      "prices                    -0.0016      0.002     -0.981      0.326      -0.005       0.002\n",
      "==========================================================================================\n"
     ]
    },
    {
     "name": "stderr",
     "output_type": "stream",
     "text": [
      "/home/erichschulman/anaconda3/lib/python3.9/site-packages/statsmodels/discrete/discrete_model.py:3500: RuntimeWarning: divide by zero encountered in double_scalars\n",
      "  return 1 - self.llf/self.llnull\n",
      "/home/erichschulman/anaconda3/lib/python3.9/site-packages/statsmodels/tsa/tsatools.py:142: FutureWarning: In a future version of pandas all arguments of concat except for the argument 'objs' will be keyword-only\n",
      "  x = pd.concat(x[::order], 1)\n"
     ]
    }
   ],
   "source": [
    "#split into training and test\n",
    "\n",
    "model = sm.Logit(X_train['shares'],\n",
    "                 sm.add_constant(X_train[linear_cols+nonlinear_cols+mkt_cols+['prices']]))\n",
    "model_fit = model.fit()\n",
    "print(model_fit.summary())\n",
    "pred_shares = model_fit.predict(\n",
    "    sm.add_constant(X_test[linear_cols+nonlinear_cols+mkt_cols+['prices']]))"
   ]
  },
  {
   "cell_type": "code",
   "execution_count": 4,
   "id": "011b19f8",
   "metadata": {},
   "outputs": [
    {
     "name": "stdout",
     "output_type": "stream",
     "text": [
      "mse 33319482.284650996 r2 0.36710927531977366\n",
      "total variation 52646501.18152065\n"
     ]
    },
    {
     "data": {
      "image/png": "[encoded data removed]",
      "text/plain": [
       "<Figure size 432x288 with 1 Axes>"
      ]
     },
     "metadata": {
      "needs_background": "light"
     },
     "output_type": "display_data"
    },
    {
     "data": {
      "image/png": "[encoded data removed]",
      "text/plain": [
       "<Figure size 432x288 with 1 Axes>"
      ]
     },
     "metadata": {
      "needs_background": "light"
     },
     "output_type": "display_data"
    }
   ],
   "source": [
    "#evaluating model fit...\n",
    "error = (X_test['shares']- pred_shares)*X_test['DP03_0095E']\n",
    "true_shares = X_test['shares']*X_test['DP03_0095E']\n",
    "\n",
    "mse  = float( (error**2).mean() ) \n",
    "r2 = float( 1 - (error**2).mean()/true_shares.var() )\n",
    "print( 'mse',mse, 'r2', r2 )\n",
    "print('total variation', true_shares.var())\n",
    "\n",
    "blp_pred = pred_shares*X_test['DP03_0095E']\n",
    "true_shares = X_test['shares']*X_test['DP03_0095E']\n",
    "\n",
    "split = 5000\n",
    "plt.title('>'+str(split))\n",
    "plt.hist(blp_pred[true_shares >=split],label='True',alpha=.5,density=True)\n",
    "plt.hist(true_shares[true_shares >=split],label='logit',alpha = .5,density=True)\n",
    "plt.legend()\n",
    "plt.show()\n",
    "\n",
    "\n",
    "plt.title('<'+str(split))\n",
    "plt.hist(blp_pred[true_shares <=split],label='True',alpha=.5,density=True)\n",
    "plt.hist(true_shares[true_shares <=split],label='logit',alpha = .5,density=True)\n",
    "plt.legend()\n",
    "plt.show()"
   ]
  },
  {
   "cell_type": "code",
   "execution_count": 5,
   "id": "38e72e18",
   "metadata": {
    "scrolled": false
   },
   "outputs": [
    {
     "name": "stdout",
     "output_type": "stream",
     "text": [
      "               pred  Ever Enrolled Count      pred_var    enroll_var  count\n",
      "State                                                                      \n",
      "IL     60723.718621         19015.000000           NaN           NaN      1\n",
      "AZ     38294.322501         51542.000000    805.008799  71539.407266      2\n",
      "MI     26504.563761          1962.142857   4843.082425   1329.678461      7\n",
      "NV     26440.246499          2607.000000           NaN           NaN      1\n",
      "FL     26240.013853         49260.125000   8740.984828  59332.042528     16\n",
      "PA     19714.373579           270.000000           NaN           NaN      1\n",
      "TX     18535.984400         57073.888889  13489.187073  34834.845153      9\n",
      "VA     15438.945546         35581.000000           NaN           NaN      1\n",
      "MO     13143.695503         33361.000000           NaN           NaN      1\n",
      "NC     10543.244522         46566.333333   3272.359706  18071.783872      3\n",
      "GA      9049.889037         36800.000000   1214.218231  13393.341368      3\n",
      "OK      8755.978004         32912.000000           NaN           NaN      1\n",
      "UT      7798.607482         32160.333333   3501.297805   7605.002980      3\n",
      "KS      5712.751342         26915.000000           NaN           NaN      1\n"
     ]
    }
   ],
   "source": [
    "def report_error(X_test,pred_shares):\n",
    "    pred_shares = np.array(pred_shares.copy())\n",
    "    X_test = X_test.copy()\n",
    "    X_test['error'] =  ((X_test['shares']- pred_shares)*X_test['DP03_0095E'])**2\n",
    "    X_test['pred'] = pred_shares*X_test['DP03_0095E']\n",
    "    result = X_test.merge(df2, how='inner',left_index=True, right_index=True,suffixes=('_x',''))    \n",
    "    result = result.sort_values('error',ascending=False).head(50) \n",
    "    \n",
    "    result_groupby = result.groupby('State')[['pred','Ever Enrolled Count','prices','csr_tot']].mean()\n",
    "    result_groupby = result.groupby('State')[['pred','Ever Enrolled Count']].mean()\n",
    "    result_groupby[['pred_var','enroll_var']] = result.groupby('State')[['pred','Ever Enrolled Count']].std()\n",
    "    result_groupby['count'] =result.groupby('State')['shares'].count()\n",
    "    result_groupby = result_groupby.sort_values('pred',ascending=False)\n",
    "    return result_groupby\n",
    "\n",
    "print(report_error(X_test,pred_shares))"
   ]
  },
  {
   "cell_type": "code",
   "execution_count": null,
   "id": "ab87d4c5",
   "metadata": {},
   "outputs": [],
   "source": []
  },
  {
   "cell_type": "markdown",
   "id": "41a9cfb7",
   "metadata": {},
   "source": [
    "# comparing market structure in the 2 years"
   ]
  },
  {
   "cell_type": "code",
   "execution_count": 6,
   "id": "52cd858b",
   "metadata": {},
   "outputs": [
    {
     "name": "stdout",
     "output_type": "stream",
     "text": [
      "       Ever Enrolled Count      prices  MetalLevel_Silver        csr_tot  \\\n",
      "State                                                                      \n",
      "NE              178.666667  306.537000           0.333333     289.466667   \n",
      "UT             3039.272727  287.319000           0.400000    2682.454545   \n",
      "VA              894.500000  160.690435           0.347826     901.500000   \n",
      "FL            84114.600000  261.304044           0.320000  130669.400000   \n",
      "NC             2907.600000  316.941333           0.400000    2882.600000   \n",
      "TX              130.666667  169.886111           0.333333     131.666667   \n",
      "WI              994.000000   73.783333           0.527778    1271.333333   \n",
      "MO              607.000000  256.775714           0.380952     670.000000   \n",
      "MT              316.000000  274.047500           0.500000     377.000000   \n",
      "\n",
      "       count  \n",
      "State         \n",
      "NE        15  \n",
      "UT        11  \n",
      "VA         6  \n",
      "FL         5  \n",
      "NC         5  \n",
      "TX         3  \n",
      "WI         3  \n",
      "MO         1  \n",
      "MT         1  \n"
     ]
    },
    {
     "data": {
      "image/png": "[encoded data removed]",
      "text/plain": [
       "<Figure size 432x288 with 1 Axes>"
      ]
     },
     "metadata": {
      "needs_background": "light"
     },
     "output_type": "display_data"
    }
   ],
   "source": [
    "highest_shares = df1[['shares','IssuerId','State','County Name',\n",
    "          'Ever Enrolled Count','DP03_0095E','act_value','prices','MetalLevel_Silver',\n",
    "    'csr_tot','csr_pay_94']].sort_values('shares',ascending=False).head(50)\n",
    "\n",
    "\n",
    "highest_share_groupy = highest_shares.groupby('State')[['Ever Enrolled Count','prices','MetalLevel_Silver','csr_tot']].mean()\n",
    "highest_share_groupy['count'] =highest_shares.groupby('State')['shares'].count()\n",
    "highest_share_groupy = highest_share_groupy.sort_values('count',ascending=False)\n",
    "print(highest_share_groupy)\n",
    "\n",
    "plt.hist(df1['prices'][df1['prices']>=.1])\n",
    "plt.show()"
   ]
  },
  {
   "cell_type": "code",
   "execution_count": 7,
   "id": "a7175917",
   "metadata": {},
   "outputs": [
    {
     "name": "stdout",
     "output_type": "stream",
     "text": [
      "       Ever Enrolled Count      prices  MetalLevel_Silver  csr_tot  count\n",
      "State                                                                    \n",
      "NC             3979.588235  332.437328           0.362834      0.0     17\n",
      "FL            51536.666667  299.441730           0.371673      0.0      9\n",
      "MT              167.666667  386.140857           0.309524      0.0      6\n",
      "VA              894.666667  191.571136           0.363636      0.0      6\n",
      "TX             1292.600000  253.378340           0.448583      0.0      5\n",
      "WI             1223.666667  190.780896           0.429101      0.0      3\n",
      "MO              486.000000  315.478421           0.526316      0.0      2\n",
      "KS              244.000000  206.892857           0.428571      0.0      1\n",
      "OR             1552.000000  289.800000           0.400000      0.0      1\n"
     ]
    },
    {
     "data": {
      "image/png": "[encoded data removed]",
      "text/plain": [
       "<Figure size 432x288 with 1 Axes>"
      ]
     },
     "metadata": {
      "needs_background": "light"
     },
     "output_type": "display_data"
    }
   ],
   "source": [
    "highest_shares = df2[['shares','IssuerId','State','County',\n",
    "          'Ever Enrolled Count','DP03_0095E','act_value','prices','MetalLevel_Silver',\n",
    "    'csr_tot','csr_pay_94']].sort_values('shares',ascending=False).head(50)\n",
    "\n",
    "\n",
    "highest_share_groupy = highest_shares.groupby('State')[['Ever Enrolled Count','prices','MetalLevel_Silver','csr_tot']].mean()\n",
    "highest_share_groupy['count'] =highest_shares.groupby('State')['shares'].count()\n",
    "highest_share_groupy = highest_share_groupy.sort_values('count',ascending=False)\n",
    "print(highest_share_groupy)\n",
    "\n",
    "plt.hist(df1['prices'][df1['prices']>=.1])\n",
    "plt.show()"
   ]
  },
  {
   "cell_type": "code",
   "execution_count": null,
   "id": "b34a6583",
   "metadata": {},
   "outputs": [],
   "source": []
  }
 ],
 "metadata": {
  "kernelspec": {
   "display_name": "Python 3 (ipykernel)",
   "language": "python",
   "name": "python3"
  },
  "language_info": {
   "codemirror_mode": {
    "name": "ipython",
    "version": 3
   },
   "file_extension": ".py",
   "mimetype": "text/x-python",
   "name": "python",
   "nbconvert_exporter": "python",
   "pygments_lexer": "ipython3",
   "version": "3.9.7"
  }
 },
 "nbformat": 4,
 "nbformat_minor": 5
}
