{
 "cells": [
  {
   "cell_type": "code",
   "execution_count": 1,
   "id": "8bed8808",
   "metadata": {},
   "outputs": [],
   "source": [
    "import pandas as pd\n",
    "import numpy as np\n",
    "import matplotlib.pylab as plt\n",
    "import random\n",
    "\n",
    "import statsmodels.api as sm\n",
    "from sklearn.model_selection import train_test_split"
   ]
  },
  {
   "cell_type": "code",
   "execution_count": 2,
   "id": "40572c2e",
   "metadata": {
    "scrolled": false
   },
   "outputs": [
    {
     "name": "stderr",
     "output_type": "stream",
     "text": [
      "/tmp/ipykernel_36704/1151128323.py:52: SettingWithCopyWarning: \n",
      "A value is trying to be set on a copy of a slice from a DataFrame.\n",
      "Try using .loc[row_indexer,col_indexer] = value instead\n",
      "\n",
      "See the caveats in the documentation: https://pandas.pydata.org/pandas-docs/stable/user_guide/indexing.html#returning-a-view-versus-a-copy\n",
      "  blp_data[col] = blp_data[col]/blp_data[col].var()\n"
     ]
    }
   ],
   "source": [
    "df1 = pd.read_csv('../data/processed_data/merged_characteristics.csv')\n",
    "df2 = pd.read_csv('../data/processed_data/merged_characteristics_2017.csv')\n",
    "\n",
    "\n",
    "#create mkt share data\n",
    "blp_keys = ['market_ids', 'product_ids', 'firm_ids', 'shares', 'prices','demand_instruments0']\n",
    "\n",
    "nonlinear_cols = ['csr_pay_94','PREMI27']#,'SBCHavingDiabetesCopayment','SBCHavingaBabyCoinsurance']\n",
    "#['act_value','csr_pay_94','csr_pay_87','SBCHavingDiabetesCopayment','SBCHavingaBabyCoinsurance']\n",
    "\n",
    "linear_cols = [ 'act_value', 'MetalLevel_Silver','MetalLevel_Platinum']#\n",
    "#['CompositeRatingOffered_No','MetalLevel_Silver','MetalLevel_Platinum',\n",
    "# 'BeginPrimaryCareCostSharingAfterNumberOfVisits' , 'csr_tot', 'csr_tot_94', 'PlanType_Indemnity']            \n",
    "#'CSRVariationTypeBinary','DentalOnlyPlan_No','CompositeRatingOffered_No',\n",
    "\n",
    "firm_cols =  linear_cols+ nonlinear_cols    \n",
    "mkt_cols = [ 'DP05_0015PE' ,'DP05_0069PE','S1701_C01_017E']\n",
    "keys = ['HIOS ID', 'IssuerId', 'County', 'State', 'FIPS County Code', 'Policy County FIPS Code','County Name']\n",
    "\n",
    "def create_blp_data(df):\n",
    "    \n",
    "    #create market data...\n",
    "    df['shares'] = df['Ever Enrolled Count']/df['DP03_0095E']\n",
    "\n",
    "    #add blp columns\n",
    "    df['prices'] = df['EHBPercentTotalPremium']\n",
    "    df['product_ids'] = df['IssuerId'].astype(str) +  df['County'].astype(str) \n",
    "    df['market_ids'] = df['County']\n",
    "    df['firm_ids'] = df['IssuerId']\n",
    "\n",
    "    #demand_instrument0\n",
    "    MktIds = np.array(pd.get_dummies(df['IssuerId']))\n",
    "    MktIds2 = (MktIds.T).dot(MktIds)\n",
    "    dummies_proj = MktIds.dot( np.linalg.inv( MktIds2 ) ).dot( MktIds.T )\n",
    "    df['demand_instruments0'] = dummies_proj.dot(df['prices']) #average price across markets\n",
    "\n",
    "\n",
    "    #fix problematic columns =\n",
    "    df = df.rename(columns={'Average Monthly Advanced CSR Payment for Consumers with 94%':'csr_pay_94',\n",
    "                      'Average Monthly Advanced CSR Payment for Consumers with 87%':'csr_pay_87',\n",
    "                           'Total Number of Consumers':'csr_tot',\n",
    "                            'Number of Consumers with CSR AV of 94%':'csr_tot_94'})\n",
    "\n",
    "    #'DP05_0072PE', ,\n",
    "\n",
    "    blp_data = df[blp_keys+linear_cols+nonlinear_cols+mkt_cols+['DP03_0095E']]\n",
    "\n",
    "\n",
    "    #standardize the cols\n",
    "    for col in firm_cols:\n",
    "        #this line is causing a warning?\n",
    "        blp_data[col] = blp_data[col]/blp_data[col].var()\n",
    "\n",
    "    #zero shares are not okay?\n",
    "    blp_data = blp_data[blp_data['shares']!=0]\n",
    "    return blp_data,df\n",
    "    \n",
    "X_train,df1 = create_blp_data(df1)\n",
    "X_test,df2 = create_blp_data(df2)\n",
    "X_test  = X_test.fillna(0)"
   ]
  },
  {
   "cell_type": "code",
   "execution_count": 3,
   "id": "52cd858b",
   "metadata": {},
   "outputs": [
    {
     "name": "stdout",
     "output_type": "stream",
     "text": [
      "       Ever Enrolled Count    prices  MetalLevel_Silver        csr_tot  count\n",
      "State                                                                        \n",
      "NE              178.666667  1.000000           0.333333     289.466667     15\n",
      "UT             3039.272727  0.979380           0.400000    2682.454545     11\n",
      "VA              894.500000  0.652174           0.347826     901.500000      6\n",
      "NC             2907.600000  1.000000           0.400000    2882.600000      5\n",
      "FL           104536.250000  0.947717           0.300000  162676.500000      4\n",
      "TX              130.666667  1.000000           0.333333     131.666667      3\n",
      "WI              994.000000  0.995937           0.527778    1271.333333      3\n",
      "MI              731.000000  0.000000           0.000000     669.000000      1\n",
      "MO              607.000000  0.562500           0.250000     670.000000      1\n",
      "MT              316.000000  1.000000           0.500000     377.000000      1\n"
     ]
    },
    {
     "data": {
      "image/png": "[encoded data removed]",
      "text/plain": [
       "<Figure size 432x288 with 1 Axes>"
      ]
     },
     "metadata": {
      "needs_background": "light"
     },
     "output_type": "display_data"
    }
   ],
   "source": [
    "highest_shares = df1[['shares','IssuerId','State','County Name',\n",
    "          'Ever Enrolled Count','DP03_0095E','act_value','prices','MetalLevel_Silver',\n",
    "    'csr_tot','csr_pay_94']].sort_values('shares',ascending=False).head(50)\n",
    "\n",
    "\n",
    "highest_share_groupy = highest_shares.groupby('State')[['Ever Enrolled Count','prices','MetalLevel_Silver','csr_tot']].mean()\n",
    "highest_share_groupy['count'] =highest_shares.groupby('State')['shares'].count()\n",
    "highest_share_groupy = highest_share_groupy.sort_values('count',ascending=False)\n",
    "print(highest_share_groupy)\n",
    "\n",
    "\n",
    "plt.hist(df1['prices'][df1['prices']>=.1])\n",
    "plt.show()"
   ]
  },
  {
   "cell_type": "code",
   "execution_count": 4,
   "id": "8ee38370",
   "metadata": {},
   "outputs": [
    {
     "name": "stdout",
     "output_type": "stream",
     "text": [
      "Optimization terminated successfully.\n",
      "         Current function value: 0.016132\n",
      "         Iterations 9\n",
      "                           Logit Regression Results                           \n",
      "==============================================================================\n",
      "Dep. Variable:                 shares   No. Observations:                 5426\n",
      "Model:                          Logit   Df Residuals:                     5416\n",
      "Method:                           MLE   Df Model:                            9\n",
      "Date:                Mon, 25 Apr 2022   Pseudo R-squ.:                     inf\n",
      "Time:                        20:47:09   Log-Likelihood:                -87.532\n",
      "converged:                       True   LL-Null:                        0.0000\n",
      "Covariance Type:            nonrobust   LLR p-value:                     1.000\n",
      "=======================================================================================\n",
      "                          coef    std err          z      P>|z|      [0.025      0.975]\n",
      "---------------------------------------------------------------------------------------\n",
      "const                  -3.9416      1.978     -1.993      0.046      -7.818      -0.066\n",
      "act_value              -0.4998      0.739     -0.676      0.499      -1.948       0.949\n",
      "MetalLevel_Silver       0.0054      0.015      0.350      0.726      -0.025       0.036\n",
      "MetalLevel_Platinum     0.0059      0.008      0.760      0.447      -0.009       0.021\n",
      "csr_pay_94              1.7299      3.152      0.549      0.583      -4.448       7.907\n",
      "PREMI27               -12.8806     12.762     -1.009      0.313     -37.893      12.132\n",
      "DP05_0015PE             0.1281      0.065      1.965      0.049       0.000       0.256\n",
      "DP05_0069PE             0.0129      0.071      0.180      0.857      -0.127       0.153\n",
      "S1701_C01_017E      -1.369e-06      0.000     -0.007      0.995      -0.000       0.000\n",
      "prices                 -0.0054      0.587     -0.009      0.993      -1.157       1.146\n",
      "=======================================================================================\n"
     ]
    },
    {
     "name": "stderr",
     "output_type": "stream",
     "text": [
      "/home/erichschulman/anaconda3/lib/python3.9/site-packages/statsmodels/tsa/tsatools.py:142: FutureWarning: In a future version of pandas all arguments of concat except for the argument 'objs' will be keyword-only\n",
      "  x = pd.concat(x[::order], 1)\n",
      "/home/erichschulman/anaconda3/lib/python3.9/site-packages/statsmodels/discrete/discrete_model.py:3500: RuntimeWarning: divide by zero encountered in double_scalars\n",
      "  return 1 - self.llf/self.llnull\n",
      "/home/erichschulman/anaconda3/lib/python3.9/site-packages/statsmodels/tsa/tsatools.py:142: FutureWarning: In a future version of pandas all arguments of concat except for the argument 'objs' will be keyword-only\n",
      "  x = pd.concat(x[::order], 1)\n"
     ]
    }
   ],
   "source": [
    "#split into training and test\n",
    "\n",
    "model = sm.Logit(X_train['shares'],\n",
    "                 sm.add_constant(X_train[linear_cols+nonlinear_cols+mkt_cols+['prices']]))\n",
    "model_fit = model.fit()\n",
    "print(model_fit.summary())\n",
    "pred_shares = model_fit.predict(\n",
    "    sm.add_constant(X_test[linear_cols+nonlinear_cols+mkt_cols+['prices']]))"
   ]
  },
  {
   "cell_type": "code",
   "execution_count": 5,
   "id": "011b19f8",
   "metadata": {},
   "outputs": [
    {
     "name": "stdout",
     "output_type": "stream",
     "text": [
      "mse 34956041.99918364 r2 0.3239509437236876\n"
     ]
    },
    {
     "data": {
      "image/png": "[encoded data removed]",
      "text/plain": [
       "<Figure size 432x288 with 1 Axes>"
      ]
     },
     "metadata": {
      "needs_background": "light"
     },
     "output_type": "display_data"
    },
    {
     "data": {
      "image/png": "[encoded data removed]",
      "text/plain": [
       "<Figure size 432x288 with 1 Axes>"
      ]
     },
     "metadata": {
      "needs_background": "light"
     },
     "output_type": "display_data"
    }
   ],
   "source": [
    "#evaluating model fit...\n",
    "error = (X_test['shares']- pred_shares)*X_test['DP03_0095E']\n",
    "true_shares = X_test['shares']*X_test['DP03_0095E']\n",
    "\n",
    "mse  = float( (error**2).mean() ) \n",
    "r2 = float( 1 - (error**2).mean()/true_shares.var() )\n",
    "print( 'mse',mse, 'r2', r2 )\n",
    "\n",
    "blp_pred = pred_shares*X_test['DP03_0095E']\n",
    "true_shares = X_test['shares']*X_test['DP03_0095E']\n",
    "\n",
    "split = 5000\n",
    "plt.title('>'+str(split))\n",
    "plt.hist(blp_pred[true_shares >=split],label='True',alpha=.5,density=True)\n",
    "plt.hist(true_shares[true_shares >=split],label='logit',alpha = .5,density=True)\n",
    "plt.legend()\n",
    "plt.show()\n",
    "\n",
    "\n",
    "plt.title('<'+str(split))\n",
    "plt.hist(blp_pred[true_shares <=split],label='True',alpha=.5,density=True)\n",
    "plt.hist(true_shares[true_shares <=split],label='logit',alpha = .5,density=True)\n",
    "plt.legend()\n",
    "plt.show()"
   ]
  },
  {
   "cell_type": "code",
   "execution_count": 6,
   "id": "38e72e18",
   "metadata": {
    "scrolled": false
   },
   "outputs": [
    {
     "name": "stdout",
     "output_type": "stream",
     "text": [
      "               pred  Ever Enrolled Count      pred_var    enroll_var  count\n",
      "State                                                                      \n",
      "IL     73044.139275         33407.500000    304.595392  20354.068696      2\n",
      "AZ     49355.965188         51542.000000   6890.775879  71539.407266      2\n",
      "NV     33550.890660          2607.000000           NaN           NaN      1\n",
      "FL     32775.222454         44373.562500  11101.757564  60977.678702     16\n",
      "PA     31927.395475          5401.000000   9619.185456   7256.329789      2\n",
      "MI     31727.405554          2092.400000   6898.493552   1509.145468     10\n",
      "TX     31630.104425         51586.222222  15905.282121  40532.193870      9\n",
      "NJ     23551.712396          2459.000000           NaN           NaN      1\n",
      "NC     12697.443900         46566.333333   4147.646546  18071.783872      3\n",
      "OK     11131.374206         32912.000000           NaN           NaN      1\n",
      "GA     10660.957231         52231.000000           NaN           NaN      1\n",
      "UT      8122.809998         32991.500000   5054.596902  10560.639777      2\n"
     ]
    }
   ],
   "source": [
    "def report_error(X_test,pred_shares):\n",
    "    pred_shares = np.array(pred_shares.copy())\n",
    "    X_test = X_test.copy()\n",
    "    X_test['error'] =  ((X_test['shares']- pred_shares)*X_test['DP03_0095E'])**2\n",
    "    X_test['pred'] = pred_shares*X_test['DP03_0095E']\n",
    "    result = X_test.merge(df2, how='inner',left_index=True, right_index=True,suffixes=('_x',''))    \n",
    "    result = result.sort_values('error',ascending=False).head(50) \n",
    "    #plt.hist(result['Ever Enrolled Count'],label='true',alpha=.5,density=True)\n",
    "    #plt.hist(result['pred'],label='pred',alpha=.5,density=True)\n",
    "    #plt.legend()\n",
    "    #plt.show()\n",
    "    result_groupby = result.groupby('State')[['pred','Ever Enrolled Count','prices','csr_tot']].mean()\n",
    "    result_groupby = result.groupby('State')[['pred','Ever Enrolled Count']].mean()\n",
    "    result_groupby[['pred_var','enroll_var']] = result.groupby('State')[['pred','Ever Enrolled Count']].std()\n",
    "    result_groupby['count'] =result.groupby('State')['shares'].count()\n",
    "    result_groupby = result_groupby.sort_values('pred',ascending=False)\n",
    "    return result_groupby\n",
    "\n",
    "print(report_error(X_test,pred_shares))"
   ]
  },
  {
   "cell_type": "code",
   "execution_count": null,
   "id": "ab87d4c5",
   "metadata": {},
   "outputs": [],
   "source": []
  },
  {
   "cell_type": "code",
   "execution_count": null,
   "id": "1ccf3a50",
   "metadata": {},
   "outputs": [],
   "source": []
  },
  {
   "cell_type": "code",
   "execution_count": null,
   "id": "a7175917",
   "metadata": {},
   "outputs": [],
   "source": []
  }
 ],
 "metadata": {
  "kernelspec": {
   "display_name": "Python 3 (ipykernel)",
   "language": "python",
   "name": "python3"
  },
  "language_info": {
   "codemirror_mode": {
    "name": "ipython",
    "version": 3
   },
   "file_extension": ".py",
   "mimetype": "text/x-python",
   "name": "python",
   "nbconvert_exporter": "python",
   "pygments_lexer": "ipython3",
   "version": "3.9.7"
  }
 },
 "nbformat": 4,
 "nbformat_minor": 5
}
