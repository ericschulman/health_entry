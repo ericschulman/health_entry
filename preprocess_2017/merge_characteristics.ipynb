{
 "cells": [
  {
   "cell_type": "code",
   "execution_count": 1,
   "id": "e1f25c7c",
   "metadata": {},
   "outputs": [],
   "source": [
    "import pandas as pd\n",
    "import numpy as np\n",
    "import warnings\n",
    "warnings.filterwarnings(\"ignore\")"
   ]
  },
  {
   "cell_type": "code",
   "execution_count": 2,
   "id": "5e9aabf7",
   "metadata": {},
   "outputs": [],
   "source": [
    "data_path = \"../data/data_2016/\"\n",
    "enroll_df = pd.read_csv(data_path + '2016-Issuer-Enrollment-Disenrollment-Report.csv',na_values=['*'])\n",
    "enroll_df = enroll_df[['HIOS ID','Policy County FIPS Code','Ever Enrolled Count']].fillna('0')\n",
    "#clean the column\n",
    "enroll_df['Ever Enrolled Count'] = enroll_df['Ever Enrolled Count'].apply(lambda x: int(x.replace(',','')) )"
   ]
  },
  {
   "cell_type": "markdown",
   "id": "817d39c4",
   "metadata": {},
   "source": [
    "# enrollment with issuer characteristics"
   ]
  },
  {
   "cell_type": "code",
   "execution_count": 3,
   "id": "0a1efe16",
   "metadata": {},
   "outputs": [],
   "source": [
    "service_df = pd.read_csv(data_path + 'ServiceArea_PUF_2016.csv', encoding='cp1252')\n",
    "service_df = service_df[['County','ServiceAreaId','IssuerId']]\n",
    "service_df = service_df.drop_duplicates()\n",
    "issuer_df = pd.read_csv('../data/processed_data/issuer_characteristics_2017.csv')"
   ]
  },
  {
   "cell_type": "code",
   "execution_count": 4,
   "id": "cd3eb288",
   "metadata": {
    "scrolled": false
   },
   "outputs": [
    {
     "name": "stdout",
     "output_type": "stream",
     "text": [
      "(9413, 73)\n"
     ]
    }
   ],
   "source": [
    "issuer_service = issuer_df.merge(service_df, how='inner', on=['ServiceAreaId', 'IssuerId'])\n",
    "issuer_service = issuer_service[ ~issuer_service['County'].isna() ]\n",
    "\n",
    "#reorder the columns, drop service area\n",
    "col_order= ['IssuerId','County'] + list(issuer_service.columns)[2:-1]\n",
    "issuer_service = issuer_service[ col_order ]\n",
    "\n",
    "#group by county\n",
    "#pre_cols = list(issuer_service.columns)\n",
    "issuer_service = issuer_service.groupby(['IssuerId','County','StandardComponentId','StateCode'],as_index=False).mean()\n",
    "issuer_service = issuer_service.groupby(['IssuerId','County','StateCode'],as_index=False).mean()\n",
    "issuer_service = issuer_service.rename(columns={'StateCode':'State'})\n",
    "#post_cols = list(issuer_service.columns)\n",
    "print(issuer_service.shape)\n",
    "#print(len(pre_cols),len(post_cols))"
   ]
  },
  {
   "cell_type": "code",
   "execution_count": 5,
   "id": "1072b365",
   "metadata": {},
   "outputs": [
    {
     "name": "stdout",
     "output_type": "stream",
     "text": [
      "(5723, 76)\n"
     ]
    }
   ],
   "source": [
    "enroll_issuer = enroll_df.merge(issuer_service, how='left', right_on=['County', 'IssuerId'],\n",
    "                                     left_on=['Policy County FIPS Code','HIOS ID'])\n",
    "# enroll_issuer.to_csv('test3.csv')\n",
    "enroll_issuer = enroll_issuer[~enroll_issuer['IssuerId'].isna()]\n",
    "print(enroll_issuer.shape)"
   ]
  },
  {
   "cell_type": "markdown",
   "id": "b31d0014",
   "metadata": {},
   "source": [
    "# Merge with county characteristics"
   ]
  },
  {
   "cell_type": "code",
   "execution_count": 6,
   "id": "919dc3ce",
   "metadata": {},
   "outputs": [],
   "source": [
    "county = pd.read_csv('../data/processed_data/county_characteristics_2017.csv')\n",
    "result = enroll_issuer.merge(county, how='left', left_on='County', right_on='County')\n",
    "result =result[~result['County'].isna()]"
   ]
  },
  {
   "cell_type": "code",
   "execution_count": 7,
   "id": "40f2f8e1",
   "metadata": {
    "scrolled": false
   },
   "outputs": [
    {
     "ename": "ValueError",
     "evalue": "could not convert string to float: 'AL'",
     "output_type": "error",
     "traceback": [
      "\u001b[0;31m---------------------------------------------------------------------------\u001b[0m",
      "\u001b[0;31mValueError\u001b[0m                                Traceback (most recent call last)",
      "\u001b[0;32m<ipython-input-7-dd55e28481a0>\u001b[0m in \u001b[0;36m<module>\u001b[0;34m\u001b[0m\n\u001b[1;32m      9\u001b[0m \u001b[0;32mfor\u001b[0m \u001b[0mcol\u001b[0m \u001b[0;32min\u001b[0m \u001b[0mall_cols\u001b[0m\u001b[0;34m:\u001b[0m\u001b[0;34m\u001b[0m\u001b[0;34m\u001b[0m\u001b[0m\n\u001b[1;32m     10\u001b[0m     \u001b[0;31m#fix cols from census data\u001b[0m\u001b[0;34m\u001b[0m\u001b[0;34m\u001b[0m\u001b[0;34m\u001b[0m\u001b[0m\n\u001b[0;32m---> 11\u001b[0;31m     \u001b[0mresult\u001b[0m\u001b[0;34m[\u001b[0m\u001b[0mcol\u001b[0m\u001b[0;34m]\u001b[0m \u001b[0;34m=\u001b[0m \u001b[0mresult\u001b[0m\u001b[0;34m[\u001b[0m\u001b[0mcol\u001b[0m\u001b[0;34m]\u001b[0m\u001b[0;34m.\u001b[0m\u001b[0mapply\u001b[0m\u001b[0;34m(\u001b[0m\u001b[0;32mlambda\u001b[0m \u001b[0mx\u001b[0m \u001b[0;34m:\u001b[0m \u001b[0mfloat\u001b[0m\u001b[0;34m(\u001b[0m\u001b[0mstr\u001b[0m\u001b[0;34m(\u001b[0m\u001b[0mx\u001b[0m\u001b[0;34m)\u001b[0m\u001b[0;34m.\u001b[0m\u001b[0mreplace\u001b[0m\u001b[0;34m(\u001b[0m\u001b[0;34m'-'\u001b[0m\u001b[0;34m,\u001b[0m\u001b[0;34m'0'\u001b[0m\u001b[0;34m)\u001b[0m\u001b[0;34m.\u001b[0m\u001b[0mreplace\u001b[0m\u001b[0;34m(\u001b[0m\u001b[0;34m'N'\u001b[0m\u001b[0;34m,\u001b[0m\u001b[0;34m'0'\u001b[0m\u001b[0;34m)\u001b[0m\u001b[0;34m)\u001b[0m\u001b[0;34m)\u001b[0m\u001b[0;34m\u001b[0m\u001b[0;34m\u001b[0m\u001b[0m\n\u001b[0m\u001b[1;32m     12\u001b[0m \u001b[0;34m\u001b[0m\u001b[0m\n\u001b[1;32m     13\u001b[0m     \u001b[0;31m#clean up cols with no variance\u001b[0m\u001b[0;34m\u001b[0m\u001b[0;34m\u001b[0m\u001b[0;34m\u001b[0m\u001b[0m\n",
      "\u001b[0;32m~/anaconda3/lib/python3.8/site-packages/pandas/core/series.py\u001b[0m in \u001b[0;36mapply\u001b[0;34m(self, func, convert_dtype, args, **kwds)\u001b[0m\n\u001b[1;32m   4136\u001b[0m             \u001b[0;32melse\u001b[0m\u001b[0;34m:\u001b[0m\u001b[0;34m\u001b[0m\u001b[0;34m\u001b[0m\u001b[0m\n\u001b[1;32m   4137\u001b[0m                 \u001b[0mvalues\u001b[0m \u001b[0;34m=\u001b[0m \u001b[0mself\u001b[0m\u001b[0;34m.\u001b[0m\u001b[0mastype\u001b[0m\u001b[0;34m(\u001b[0m\u001b[0mobject\u001b[0m\u001b[0;34m)\u001b[0m\u001b[0;34m.\u001b[0m\u001b[0m_values\u001b[0m\u001b[0;34m\u001b[0m\u001b[0;34m\u001b[0m\u001b[0m\n\u001b[0;32m-> 4138\u001b[0;31m                 \u001b[0mmapped\u001b[0m \u001b[0;34m=\u001b[0m \u001b[0mlib\u001b[0m\u001b[0;34m.\u001b[0m\u001b[0mmap_infer\u001b[0m\u001b[0;34m(\u001b[0m\u001b[0mvalues\u001b[0m\u001b[0;34m,\u001b[0m \u001b[0mf\u001b[0m\u001b[0;34m,\u001b[0m \u001b[0mconvert\u001b[0m\u001b[0;34m=\u001b[0m\u001b[0mconvert_dtype\u001b[0m\u001b[0;34m)\u001b[0m\u001b[0;34m\u001b[0m\u001b[0;34m\u001b[0m\u001b[0m\n\u001b[0m\u001b[1;32m   4139\u001b[0m \u001b[0;34m\u001b[0m\u001b[0m\n\u001b[1;32m   4140\u001b[0m         \u001b[0;32mif\u001b[0m \u001b[0mlen\u001b[0m\u001b[0;34m(\u001b[0m\u001b[0mmapped\u001b[0m\u001b[0;34m)\u001b[0m \u001b[0;32mand\u001b[0m \u001b[0misinstance\u001b[0m\u001b[0;34m(\u001b[0m\u001b[0mmapped\u001b[0m\u001b[0;34m[\u001b[0m\u001b[0;36m0\u001b[0m\u001b[0;34m]\u001b[0m\u001b[0;34m,\u001b[0m \u001b[0mSeries\u001b[0m\u001b[0;34m)\u001b[0m\u001b[0;34m:\u001b[0m\u001b[0;34m\u001b[0m\u001b[0;34m\u001b[0m\u001b[0m\n",
      "\u001b[0;32mpandas/_libs/lib.pyx\u001b[0m in \u001b[0;36mpandas._libs.lib.map_infer\u001b[0;34m()\u001b[0m\n",
      "\u001b[0;32m<ipython-input-7-dd55e28481a0>\u001b[0m in \u001b[0;36m<lambda>\u001b[0;34m(x)\u001b[0m\n\u001b[1;32m      9\u001b[0m \u001b[0;32mfor\u001b[0m \u001b[0mcol\u001b[0m \u001b[0;32min\u001b[0m \u001b[0mall_cols\u001b[0m\u001b[0;34m:\u001b[0m\u001b[0;34m\u001b[0m\u001b[0;34m\u001b[0m\u001b[0m\n\u001b[1;32m     10\u001b[0m     \u001b[0;31m#fix cols from census data\u001b[0m\u001b[0;34m\u001b[0m\u001b[0;34m\u001b[0m\u001b[0;34m\u001b[0m\u001b[0m\n\u001b[0;32m---> 11\u001b[0;31m     \u001b[0mresult\u001b[0m\u001b[0;34m[\u001b[0m\u001b[0mcol\u001b[0m\u001b[0;34m]\u001b[0m \u001b[0;34m=\u001b[0m \u001b[0mresult\u001b[0m\u001b[0;34m[\u001b[0m\u001b[0mcol\u001b[0m\u001b[0;34m]\u001b[0m\u001b[0;34m.\u001b[0m\u001b[0mapply\u001b[0m\u001b[0;34m(\u001b[0m\u001b[0;32mlambda\u001b[0m \u001b[0mx\u001b[0m \u001b[0;34m:\u001b[0m \u001b[0mfloat\u001b[0m\u001b[0;34m(\u001b[0m\u001b[0mstr\u001b[0m\u001b[0;34m(\u001b[0m\u001b[0mx\u001b[0m\u001b[0;34m)\u001b[0m\u001b[0;34m.\u001b[0m\u001b[0mreplace\u001b[0m\u001b[0;34m(\u001b[0m\u001b[0;34m'-'\u001b[0m\u001b[0;34m,\u001b[0m\u001b[0;34m'0'\u001b[0m\u001b[0;34m)\u001b[0m\u001b[0;34m.\u001b[0m\u001b[0mreplace\u001b[0m\u001b[0;34m(\u001b[0m\u001b[0;34m'N'\u001b[0m\u001b[0;34m,\u001b[0m\u001b[0;34m'0'\u001b[0m\u001b[0;34m)\u001b[0m\u001b[0;34m)\u001b[0m\u001b[0;34m)\u001b[0m\u001b[0;34m\u001b[0m\u001b[0;34m\u001b[0m\u001b[0m\n\u001b[0m\u001b[1;32m     12\u001b[0m \u001b[0;34m\u001b[0m\u001b[0m\n\u001b[1;32m     13\u001b[0m     \u001b[0;31m#clean up cols with no variance\u001b[0m\u001b[0;34m\u001b[0m\u001b[0;34m\u001b[0m\u001b[0;34m\u001b[0m\u001b[0m\n",
      "\u001b[0;31mValueError\u001b[0m: could not convert string to float: 'AL'"
     ]
    }
   ],
   "source": [
    "all_cols  = list(result.columns)\n",
    "keys = ['HIOS ID','Policy County FIPS Code','IssuerId','County','State']\n",
    "for key in keys:\n",
    "    all_cols.remove(key)\n",
    "    \n",
    "#delete bad columns/clean up census data\n",
    "all_cols2 = []\n",
    "\n",
    "for col in all_cols:\n",
    "    #fix cols from census data\n",
    "    result[col] = result[col].apply(lambda x : float(str(x).replace('-','0').replace('N','0')))\n",
    "    \n",
    "    #clean up cols with no variance  \n",
    "    if result[col].std() > 0:\n",
    "        all_cols2.append(col)\n",
    "\n",
    "\n",
    "result[keys + all_cols2].to_csv('../data/processed_data/merged_characteristics_2017.csv',index=False)"
   ]
  },
  {
   "cell_type": "code",
   "execution_count": null,
   "id": "1e3f3777",
   "metadata": {},
   "outputs": [],
   "source": []
  },
  {
   "cell_type": "markdown",
   "id": "7131e846",
   "metadata": {},
   "source": [
    "# Summary stats"
   ]
  },
  {
   "cell_type": "code",
   "execution_count": null,
   "id": "f602a9b7",
   "metadata": {},
   "outputs": [],
   "source": [
    "result['Policy County FIPS Code'].nunique()"
   ]
  },
  {
   "cell_type": "code",
   "execution_count": null,
   "id": "9a4bf6a9",
   "metadata": {},
   "outputs": [],
   "source": [
    "result['IssuerId'].nunique()"
   ]
  },
  {
   "cell_type": "code",
   "execution_count": null,
   "id": "e587ff46",
   "metadata": {},
   "outputs": [],
   "source": [
    "col_names = pd.Series(result.columns)\n",
    "#col_names.to_csv('col_names.csv')"
   ]
  },
  {
   "cell_type": "code",
   "execution_count": null,
   "id": "aea92089",
   "metadata": {},
   "outputs": [],
   "source": [
    "result1 = pd.DataFrame(result.isnull().sum())\n",
    "result1"
   ]
  },
  {
   "cell_type": "code",
   "execution_count": null,
   "id": "0ac79b9c",
   "metadata": {},
   "outputs": [],
   "source": [
    "merged_characteristics_2017 = pd.read_csv('../data/processed_data/merged_characteristics_2017.csv')\n",
    "list2 = list(merged_characteristics_2017.columns)\n",
    "merged_characteristics = pd.read_csv('../data/processed_data/merged_characteristics.csv')\n",
    "list1 = list(merged_characteristics.columns)\n",
    "list_missing = list(set(list1).difference(list2))\n",
    "print(\"Missing values in first list:\", list_missing)"
   ]
  },
  {
   "cell_type": "code",
   "execution_count": null,
   "id": "889436e9",
   "metadata": {},
   "outputs": [],
   "source": [
    "merged_characteristics_2017[list_missing] = 0\n",
    "merged_characteristics_2017"
   ]
  },
  {
   "cell_type": "code",
   "execution_count": null,
   "id": "64c4abfc",
   "metadata": {},
   "outputs": [],
   "source": [
    "merged_characteristics_2017.to_csv('../data/processed_data/merged_characteristics_2017.csv',index=False)"
   ]
  },
  {
   "cell_type": "code",
   "execution_count": null,
   "id": "f117497d",
   "metadata": {},
   "outputs": [],
   "source": []
  }
 ],
 "metadata": {
  "kernelspec": {
   "display_name": "Python 3",
   "language": "python",
   "name": "python3"
  },
  "language_info": {
   "codemirror_mode": {
    "name": "ipython",
    "version": 3
   },
   "file_extension": ".py",
   "mimetype": "text/x-python",
   "name": "python",
   "nbconvert_exporter": "python",
   "pygments_lexer": "ipython3",
   "version": "3.8.8"
  }
 },
 "nbformat": 4,
 "nbformat_minor": 5
}
