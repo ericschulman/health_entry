{
 "cells": [
  {
   "cell_type": "code",
   "execution_count": 1,
   "id": "8bed8808",
   "metadata": {},
   "outputs": [],
   "source": [
    "import pandas as pd\n",
    "import numpy as np\n",
    "import matplotlib.pylab as plt\n",
    "import random\n",
    "\n",
    "import statsmodels.api as sm\n",
    "from sklearn.model_selection import train_test_split\n",
    "from sklearn.model_selection import KFold"
   ]
  },
  {
   "cell_type": "code",
   "execution_count": 2,
   "id": "40572c2e",
   "metadata": {
    "scrolled": false
   },
   "outputs": [
    {
     "name": "stdout",
     "output_type": "stream",
     "text": [
      "142.14997349144596 0.9864361485032451\n",
      "9870266.0\n"
     ]
    },
    {
     "name": "stderr",
     "output_type": "stream",
     "text": [
      "/tmp/ipykernel_359778/2015058407.py:52: SettingWithCopyWarning: \n",
      "A value is trying to be set on a copy of a slice from a DataFrame.\n",
      "Try using .loc[row_indexer,col_indexer] = value instead\n",
      "\n",
      "See the caveats in the documentation: https://pandas.pydata.org/pandas-docs/stable/user_guide/indexing.html#returning-a-view-versus-a-copy\n",
      "  blp_data[col] = blp_data[col]/blp_data[col].var()\n"
     ]
    }
   ],
   "source": [
    "df = pd.read_csv('../data/processed_data/merged_characteristics_2016.csv')\n",
    "\n",
    "#create mkt share data\n",
    "blp_keys = ['market_ids', 'product_ids', 'firm_ids', 'shares', 'prices','demand_instruments0']\n",
    "\n",
    "nonlinear_cols = ['csr_pay_94','EHBPercentTotalPremium']#,'SBCHavingDiabetesCopayment','SBCHavingaBabyCoinsurance']\n",
    "#['act_value','csr_pay_94','csr_pay_87','SBCHavingDiabetesCopayment','SBCHavingaBabyCoinsurance']\n",
    "\n",
    "linear_cols = [ 'act_value','MetalLevel_Platinum', 'MetalLevel_Silver','Plan Counts']#\n",
    "#['CompositeRatingOffered_No','MetalLevel_Silver','MetalLevel_Platinum',\n",
    "# 'BeginPrimaryCareCostSharingAfterNumberOfVisits' , 'csr_tot', 'csr_tot_94', 'PlanType_Indemnity']            \n",
    "#'CSRVariationTypeBinary','DentalOnlyPlan_No','CompositeRatingOffered_No',\n",
    "\n",
    "firm_cols =  linear_cols+ nonlinear_cols    \n",
    "mkt_cols = [ 'DP05_0015PE' ,'DP05_0069PE','S1701_C01_017E','StateCodeFL'] #'DP03_0001PE'\n",
    "\n",
    "\n",
    "keys = ['HIOS ID', 'IssuerId', 'County', 'State', 'FIPS County Code', 'Policy County FIPS Code','County Name']\n",
    "\n",
    "def create_blp_data(df):\n",
    "    \n",
    "    #create market data...\n",
    "    df['shares'] = df['Ever Enrolled Count']/df['DP03_0095E']\n",
    "    \n",
    "    #add blp columns\n",
    "    df['prices'] = df['PREMI27']\n",
    "    df['product_ids'] = df['IssuerId'].astype(str) +  df['County'].astype(str) \n",
    "    df['market_ids'] = df['County']\n",
    "    df['firm_ids'] = df['IssuerId']\n",
    "\n",
    "    #demand_instrument0\n",
    "    MktIds = np.array(pd.get_dummies(df['IssuerId']))\n",
    "    MktIds2 = (MktIds.T).dot(MktIds)\n",
    "    dummies_proj = MktIds.dot( np.linalg.inv( MktIds2 ) ).dot( MktIds.T )\n",
    "    df['demand_instruments0'] = dummies_proj.dot(df['prices']) #average price across markets\n",
    "\n",
    "\n",
    "    #fix problematic columns =\n",
    "    df = df.rename(columns={'Average Monthly Advanced CSR Payment for Consumers with 94%':'csr_pay_94',\n",
    "                      'Average Monthly Advanced CSR Payment for Consumers with 87%':'csr_pay_87',\n",
    "                           'Total Number of Consumers':'csr_tot',\n",
    "                            'Number of Consumers with CSR AV of 94%':'csr_tot_94'})\n",
    "\n",
    "    #'DP05_0072PE', ,\n",
    "\n",
    "    blp_data = df[blp_keys+linear_cols+nonlinear_cols+mkt_cols+['DP03_0095E']]\n",
    "\n",
    "\n",
    "    #standardize the cols\n",
    "    for col in firm_cols:\n",
    "        #this line is causing a warning?\n",
    "        blp_data[col] = blp_data[col]/blp_data[col].var()\n",
    "\n",
    "    #zero shares are not okay?\n",
    "    blp_data = blp_data[blp_data['shares']!=0]\n",
    "    return blp_data,df\n",
    "    \n",
    "blp_data,df = create_blp_data(df)\n",
    "blp_data  = blp_data.fillna(0)\n",
    "\n",
    "print(blp_data['prices'].mean(),(1-blp_data['shares'].mean()))\n",
    "print(df['Ever Enrolled Count'].sum())"
   ]
  },
  {
   "cell_type": "code",
   "execution_count": 3,
   "id": "3d483b32",
   "metadata": {},
   "outputs": [],
   "source": [
    "num_trials = 5\n",
    "training_test = []\n",
    "\n",
    "#initilize folds\n",
    "np.random.seed()\n",
    "kf = KFold(n_splits=num_trials,shuffle=True)\n",
    "folds_indexes = kf.split(blp_data)\n",
    "\n",
    "for fold_index in folds_indexes:\n",
    "    np.random.seed()\n",
    "    X_train = blp_data.iloc[fold_index[0]]\n",
    "    X_test = blp_data.iloc[fold_index[1]]\n",
    "    training_test.append( (X_train, X_test) )"
   ]
  },
  {
   "cell_type": "code",
   "execution_count": 4,
   "id": "8ee38370",
   "metadata": {},
   "outputs": [
    {
     "name": "stdout",
     "output_type": "stream",
     "text": [
      "------------------\n",
      "mse normalized trial  0 : r2 -0.010450553778235339\n",
      "training 1272.858568532668 predicted share 1451.826049238521 actual 1064.4788029925187\n",
      "------------------\n",
      "------------------\n",
      "mse normalized trial  1 : r2 0.3906814073069701\n",
      "training 1169.7062217370965 predicted share 1665.9458160082538 actual 1476.8952618453866\n",
      "------------------\n",
      "------------------\n",
      "mse normalized trial  2 : r2 -0.5187105210679945\n",
      "training 1272.9248518864983 predicted share 1513.4676760716638 actual 1064.0835932626326\n",
      "------------------\n",
      "------------------\n",
      "mse normalized trial  3 : r2 0.1645286320463124\n",
      "training 1201.7363579669473 predicted share 1523.232245983022 actual 1348.9263880224578\n",
      "------------------\n",
      "------------------\n",
      "mse normalized trial  4 : r2 0.2965311003120118\n",
      "training 1238.606018085438 predicted share 1566.968855880557 actual 1201.401746724891\n",
      "------------------\n",
      "mse 20450316.261333484 r2 0.1753672013290204\n",
      "mse med 13469705.108749568 r2 med 0.2965311003120118\n"
     ]
    },
    {
     "name": "stderr",
     "output_type": "stream",
     "text": [
      "/home/erichschulman/anaconda3/lib/python3.9/site-packages/statsmodels/tsa/tsatools.py:142: FutureWarning: In a future version of pandas all arguments of concat except for the argument 'objs' will be keyword-only\n",
      "  x = pd.concat(x[::order], 1)\n"
     ]
    }
   ],
   "source": [
    "mses = []\n",
    "r2s = []\n",
    "model_fit = None\n",
    "pred_shares = None\n",
    "true_shares = None\n",
    "blp_pred = None\n",
    "\n",
    "for i in range(num_trials):\n",
    "    X_train, X_test = training_test[i]\n",
    "    model = sm.Logit(X_train['shares'],\n",
    "                     sm.add_constant(X_train[linear_cols+nonlinear_cols+mkt_cols+['demand_instruments0']]))\n",
    "    model_fit = model.fit(disp=0)\n",
    "    \n",
    "    pred_shares = model_fit.predict(\n",
    "        sm.add_constant(X_test[linear_cols+nonlinear_cols+mkt_cols+['demand_instruments0']]))\n",
    "    \n",
    "    #make predictions/figure out error\n",
    "    blp_pred = pred_shares*X_test['DP03_0095E']\n",
    "    true_shares = X_test['shares']*X_test['DP03_0095E']\n",
    "    error = blp_pred - true_shares\n",
    "    \n",
    "    mse = float( (error**2).mean() )\n",
    "    r2 = float( 1 - mse/true_shares.var() ) \n",
    "    mses.append(mse)\n",
    "    r2s.append(r2)\n",
    "    print('------------------')\n",
    "    print('mse normalized trial ', i,': r2', r2)#, mse, float(true_shares.var()) )\n",
    "    print('training', (X_train['shares']*X_train['DP03_0095E']).mean() ,\n",
    "          'predicted share', blp_pred.mean() ,'actual', true_shares.mean())\n",
    "    print('------------------')\n",
    "    \n",
    "mses,r2s = np.array(mses),np.array(r2s)\n",
    "enrollments = blp_data['shares']*blp_data['DP03_0095E']\n",
    "print( 'mse', np.array(mses).mean() ,'r2', 1 - float( mses.mean()/enrollments.var()) )\n",
    "print( 'mse med', np.median(mses) ,'r2 med',r2s.reshape(num_trials,1)[mses == np.median(mses)][0,0] )"
   ]
  },
  {
   "cell_type": "code",
   "execution_count": 5,
   "id": "011b19f8",
   "metadata": {},
   "outputs": [
    {
     "name": "stderr",
     "output_type": "stream",
     "text": [
      "/home/erichschulman/anaconda3/lib/python3.9/site-packages/statsmodels/discrete/discrete_model.py:3500: RuntimeWarning: divide by zero encountered in double_scalars\n",
      "  return 1 - self.llf/self.llnull\n"
     ]
    },
    {
     "name": "stdout",
     "output_type": "stream",
     "text": [
      "                           Logit Regression Results                           \n",
      "==============================================================================\n",
      "Dep. Variable:                 shares   No. Observations:                 6414\n",
      "Model:                          Logit   Df Residuals:                     6402\n",
      "Method:                           MLE   Df Model:                           11\n",
      "Date:                Tue, 17 May 2022   Pseudo R-squ.:                     inf\n",
      "Time:                        09:20:54   Log-Likelihood:                -99.832\n",
      "converged:                       True   LL-Null:                        0.0000\n",
      "Covariance Type:            nonrobust   LLR p-value:                     1.000\n",
      "==========================================================================================\n",
      "                             coef    std err          z      P>|z|      [0.025      0.975]\n",
      "------------------------------------------------------------------------------------------\n",
      "const                     -5.3158      0.632     -8.406      0.000      -6.555      -4.076\n",
      "act_value                  3.5113     12.662      0.277      0.782     -21.305      28.328\n",
      "MetalLevel_Platinum        0.0021      0.006      0.353      0.724      -0.010       0.014\n",
      "MetalLevel_Silver         -0.0036      0.054     -0.067      0.947      -0.110       0.103\n",
      "Plan Counts                1.2918      1.121      1.152      0.249      -0.906       3.490\n",
      "csr_pay_94                 1.9540      3.755      0.520      0.603      -5.406       9.314\n",
      "EHBPercentTotalPremium    -0.0415      0.170     -0.244      0.807      -0.374       0.291\n",
      "DP05_0015PE                0.1265      0.063      2.016      0.044       0.004       0.250\n",
      "DP05_0069PE                0.0267      0.076      0.350      0.726      -0.123       0.176\n",
      "S1701_C01_017E         -7.028e-06      0.000     -0.064      0.949      -0.000       0.000\n",
      "StateCodeFL               -0.0999      0.733     -0.136      0.892      -1.537       1.338\n",
      "demand_instruments0       -0.0004      0.002     -0.230      0.818      -0.004       0.003\n",
      "==========================================================================================\n"
     ]
    },
    {
     "data": {
      "image/png": "[encoded data removed]",
      "text/plain": [
       "<Figure size 432x288 with 1 Axes>"
      ]
     },
     "metadata": {
      "needs_background": "light"
     },
     "output_type": "display_data"
    },
    {
     "data": {
      "image/png": "[encoded data removed]",
      "text/plain": [
       "<Figure size 432x288 with 1 Axes>"
      ]
     },
     "metadata": {
      "needs_background": "light"
     },
     "output_type": "display_data"
    }
   ],
   "source": [
    "#print fit\n",
    "print(model_fit.summary())\n",
    "\n",
    "#evaluating model fit...\n",
    "blp_pred = pred_shares*X_test['DP03_0095E']\n",
    "true_shares = X_test['shares']*X_test['DP03_0095E']\n",
    "\n",
    "split = 5000\n",
    "plt.title('>'+str(split))\n",
    "plt.hist(blp_pred[true_shares >=split],label='True',alpha=.5,density=True)\n",
    "plt.hist(true_shares[true_shares >=split],label='logit',alpha = .5,density=True)\n",
    "plt.legend()\n",
    "plt.show()\n",
    "\n",
    "\n",
    "plt.title('<'+str(split))\n",
    "plt.hist(blp_pred[true_shares <=split],label='True',alpha=.5,density=True)\n",
    "plt.hist(true_shares[true_shares <=split],label='logit',alpha = .5,density=True)\n",
    "plt.legend()\n",
    "plt.show()"
   ]
  },
  {
   "cell_type": "code",
   "execution_count": 6,
   "id": "38e72e18",
   "metadata": {
    "scrolled": false
   },
   "outputs": [
    {
     "name": "stdout",
     "output_type": "stream",
     "text": [
      "               pred  Ever Enrolled Count      pred_var    enroll_var  count\n",
      "State                                                                      \n",
      "IL     48537.237044         11529.000000    328.293041   9930.607635      2\n",
      "AZ     40904.597162          3951.000000           NaN           NaN      1\n",
      "TX     26295.770485         42620.833333  14937.924611  31046.315327      6\n",
      "FL     25699.355704         17153.571429  18890.345198  14832.041976     14\n",
      "NV     21349.354594         47446.000000           NaN           NaN      1\n",
      "MI     17172.332555          3358.400000   3648.136251   4843.474765      5\n",
      "PA     13468.629022          3325.000000   1722.244157   2698.305209      3\n",
      "OH     11461.962874          2910.500000    614.183548    357.088924      2\n",
      "NJ     10875.266674          1725.000000   2964.448509   1105.820359      4\n",
      "0       8821.000967          8071.166667   3827.256550   8638.020199      6\n",
      "OK      8360.153040         25732.000000           NaN           NaN      1\n",
      "GA      8149.390327         18816.000000   1905.776708    564.271211      2\n",
      "OR      5098.974383         13986.000000           NaN           NaN      1\n",
      "LA      4655.650926         14817.000000           NaN           NaN      1\n",
      "VA      2876.333815         10920.000000           NaN           NaN      1\n"
     ]
    }
   ],
   "source": [
    "def report_error(X_test,pred_shares):\n",
    "    pred_shares = np.array(pred_shares.copy())\n",
    "    X_test = X_test.copy()\n",
    "    X_test['error'] =  ((X_test['shares']- pred_shares)*X_test['DP03_0095E'])**2\n",
    "    X_test['pred'] = pred_shares*X_test['DP03_0095E']\n",
    "    result = X_test.merge(df, how='inner',left_index=True, right_index=True,suffixes=('_x',''))    \n",
    "    result = result.sort_values('error',ascending=False).head(50) \n",
    "\n",
    "    result_groupby = result.groupby('State')[['pred','Ever Enrolled Count','prices','csr_tot']].mean()\n",
    "    result_groupby = result.groupby('State')[['pred','Ever Enrolled Count']].mean()\n",
    "    result_groupby[['pred_var','enroll_var']] = result.groupby('State')[['pred','Ever Enrolled Count']].std()\n",
    "    result_groupby['count'] =result.groupby('State')['shares'].count()\n",
    "    result_groupby = result_groupby.sort_values('pred',ascending=False)\n",
    "    return result_groupby\n",
    "\n",
    "print(report_error(X_test,pred_shares))"
   ]
  },
  {
   "cell_type": "code",
   "execution_count": null,
   "id": "ab87d4c5",
   "metadata": {},
   "outputs": [],
   "source": []
  },
  {
   "cell_type": "code",
   "execution_count": null,
   "id": "1ccf3a50",
   "metadata": {},
   "outputs": [],
   "source": []
  },
  {
   "cell_type": "code",
   "execution_count": null,
   "id": "c3e9f254",
   "metadata": {},
   "outputs": [],
   "source": []
  },
  {
   "cell_type": "code",
   "execution_count": null,
   "id": "a7175917",
   "metadata": {},
   "outputs": [],
   "source": []
  }
 ],
 "metadata": {
  "kernelspec": {
   "display_name": "Python 3 (ipykernel)",
   "language": "python",
   "name": "python3"
  },
  "language_info": {
   "codemirror_mode": {
    "name": "ipython",
    "version": 3
   },
   "file_extension": ".py",
   "mimetype": "text/x-python",
   "name": "python",
   "nbconvert_exporter": "python",
   "pygments_lexer": "ipython3",
   "version": "3.9.7"
  }
 },
 "nbformat": 4,
 "nbformat_minor": 5
}
