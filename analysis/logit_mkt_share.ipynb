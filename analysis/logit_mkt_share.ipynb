{
 "cells": [
  {
   "cell_type": "code",
   "execution_count": 1,
   "id": "8bed8808",
   "metadata": {},
   "outputs": [],
   "source": [
    "import pandas as pd\n",
    "import numpy as np\n",
    "import matplotlib.pylab as plt\n",
    "import random\n",
    "\n",
    "import statsmodels.api as sm\n",
    "from sklearn.model_selection import train_test_split\n",
    "from sklearn.model_selection import KFold"
   ]
  },
  {
   "cell_type": "code",
   "execution_count": 2,
   "id": "40572c2e",
   "metadata": {
    "scrolled": false
   },
   "outputs": [
    {
     "name": "stdout",
     "output_type": "stream",
     "text": [
      "213.01239952914435 0.9860024384331355\n",
      "8185212.0\n"
     ]
    }
   ],
   "source": [
    "df = pd.read_csv('../data/processed_data/merged_characteristics.csv')\n",
    "\n",
    "#create mkt share data\n",
    "blp_keys = ['market_ids', 'product_ids', 'firm_ids', 'shares', 'prices','demand_instruments0']\n",
    "\n",
    "nonlinear_cols = ['csr_pay_94','EHBPercentTotalPremium']#,'SBCHavingDiabetesCopayment','SBCHavingaBabyCoinsurance']\n",
    "#['act_value','csr_pay_94','csr_pay_87','SBCHavingDiabetesCopayment','SBCHavingaBabyCoinsurance']\n",
    "\n",
    "linear_cols = [ 'act_value','MetalLevel_Platinum', 'MetalLevel_Silver']#\n",
    "#['CompositeRatingOffered_No','MetalLevel_Silver','MetalLevel_Platinum',\n",
    "# 'BeginPrimaryCareCostSharingAfterNumberOfVisits' , 'csr_tot', 'csr_tot_94', 'PlanType_Indemnity']            \n",
    "#'CSRVariationTypeBinary','DentalOnlyPlan_No','CompositeRatingOffered_No',\n",
    "\n",
    "firm_cols =  linear_cols+ nonlinear_cols    \n",
    "mkt_cols = [ 'DP05_0015PE' ,'DP05_0069PE','S1701_C01_017E'] #'DP03_0001PE'\n",
    "\n",
    "\n",
    "keys = ['HIOS ID', 'IssuerId', 'County', 'State', 'FIPS County Code', 'Policy County FIPS Code','County Name']\n",
    "\n",
    "def create_blp_data(df):\n",
    "    \n",
    "    #create market data...\n",
    "    df['shares'] = df['Ever Enrolled Count']/df['DP03_0095E']\n",
    "\n",
    "    #add blp columns\n",
    "    df['prices'] = df['PREMI27']\n",
    "    df['product_ids'] = df['IssuerId'].astype(str) +  df['County'].astype(str) \n",
    "    df['market_ids'] = df['County']\n",
    "    df['firm_ids'] = df['IssuerId']\n",
    "\n",
    "    #demand_instrument0\n",
    "    MktIds = np.array(pd.get_dummies(df['IssuerId']))\n",
    "    MktIds2 = (MktIds.T).dot(MktIds)\n",
    "    dummies_proj = MktIds.dot( np.linalg.inv( MktIds2 ) ).dot( MktIds.T )\n",
    "    df['demand_instruments0'] = dummies_proj.dot(df['prices']) #average price across markets\n",
    "\n",
    "\n",
    "    #fix problematic columns =\n",
    "    df = df.rename(columns={'Average Monthly Advanced CSR Payment for Consumers with 94%':'csr_pay_94',\n",
    "                      'Average Monthly Advanced CSR Payment for Consumers with 87%':'csr_pay_87',\n",
    "                           'Total Number of Consumers':'csr_tot',\n",
    "                            'Number of Consumers with CSR AV of 94%':'csr_tot_94'})\n",
    "\n",
    "    #'DP05_0072PE', ,\n",
    "\n",
    "    blp_data = df[blp_keys+linear_cols+nonlinear_cols+mkt_cols+['DP03_0095E']]\n",
    "\n",
    "\n",
    "    #standardize the cols\n",
    "    for col in firm_cols:\n",
    "        #this line is causing a warning?\n",
    "        blp_data[col] = blp_data[col]/blp_data[col].var()\n",
    "\n",
    "    #zero shares are not okay?\n",
    "    blp_data = blp_data[blp_data['shares']!=0]\n",
    "    return blp_data,df\n",
    "    \n",
    "blp_data,df = create_blp_data(df)\n",
    "blp_data  = blp_data.fillna(0)\n",
    "\n",
    "print(blp_data['prices'].mean(),(1-blp_data['shares'].mean()))\n",
    "print(df['Ever Enrolled Count'].sum())"
   ]
  },
  {
   "cell_type": "code",
   "execution_count": 3,
   "id": "3d483b32",
   "metadata": {},
   "outputs": [],
   "source": [
    "num_trials = 5\n",
    "training_test = []\n",
    "\n",
    "#initilize folds\n",
    "np.random.seed()\n",
    "kf = KFold(n_splits=num_trials,shuffle=True)\n",
    "folds_indexes = kf.split(blp_data)\n",
    "\n",
    "for fold_index in folds_indexes:\n",
    "    np.random.seed()\n",
    "    X_train = blp_data.iloc[fold_index[0]]\n",
    "    X_test = blp_data.iloc[fold_index[1]]\n",
    "    training_test.append( (X_train, X_test) )"
   ]
  },
  {
   "cell_type": "code",
   "execution_count": 4,
   "id": "8ee38370",
   "metadata": {},
   "outputs": [
    {
     "name": "stdout",
     "output_type": "stream",
     "text": [
      "mse normalized trial  0 : -0.1146685713929616 40903479.13846074 36695642.26373147\n",
      "mse normalized trial  1 : -0.19998218729417805 22338481.419367835 18615677.512462534\n",
      "mse normalized trial  2 : -0.04440478442368079 24205657.292992283 23176509.389842894\n",
      "mse normalized trial  3 : 0.22264092656237056 52195743.40867627 67144959.37875502\n",
      "mse normalized trial  4 : 0.2576767100603069 23496449.978670187 31652583.580637835\n",
      "mse 32627962.247633457 r2 0.0795532570658789\n",
      "mse med 24205657.292992283 r2 med -0.04440478442368079\n"
     ]
    },
    {
     "name": "stderr",
     "output_type": "stream",
     "text": [
      "/home/erichschulman/anaconda3/lib/python3.9/site-packages/statsmodels/tsa/tsatools.py:142: FutureWarning: In a future version of pandas all arguments of concat except for the argument 'objs' will be keyword-only\n",
      "  x = pd.concat(x[::order], 1)\n"
     ]
    }
   ],
   "source": [
    "mses = []\n",
    "r2s = []\n",
    "model_fit = None\n",
    "pred_shares = None\n",
    "true_shares = None\n",
    "blp_pred = None\n",
    "\n",
    "for i in range(num_trials):\n",
    "    X_train, X_test = training_test[i]\n",
    "    model = sm.Logit(X_train['shares'],\n",
    "                     sm.add_constant(X_train[linear_cols+nonlinear_cols+mkt_cols+['demand_instruments0']]))\n",
    "    model_fit = model.fit(disp=0)\n",
    "    \n",
    "    pred_shares = model_fit.predict(\n",
    "        sm.add_constant(X_test[linear_cols+nonlinear_cols+mkt_cols+['demand_instruments0']]))\n",
    "    \n",
    "    #make predictions/figure out error\n",
    "    blp_pred = pred_shares*X_test['DP03_0095E']\n",
    "    true_shares = X_test['shares']*X_test['DP03_0095E']\n",
    "    error = blp_pred - true_shares\n",
    "    \n",
    "    mse = float( (error**2).mean() )\n",
    "    r2 = float( 1 - mse/true_shares.var() ) \n",
    "    mses.append(mse)\n",
    "    r2s.append(r2)\n",
    "    print('mse normalized trial ', i,':', r2, mse, float(true_shares.var()) )\n",
    "    \n",
    "mses,r2s = np.array(mses),np.array(r2s)\n",
    "enrollments = blp_data['shares']*blp_data['DP03_0095E']\n",
    "print( 'mse', np.array(mses).mean() ,'r2', 1 - float( mses.mean()/enrollments.var()) )\n",
    "print( 'mse med', np.median(mses) ,'r2 med',r2s.reshape(num_trials,1)[mses == np.median(mses)][0,0] )"
   ]
  },
  {
   "cell_type": "code",
   "execution_count": 5,
   "id": "011b19f8",
   "metadata": {},
   "outputs": [
    {
     "name": "stdout",
     "output_type": "stream",
     "text": [
      "                           Logit Regression Results                           \n",
      "==============================================================================\n",
      "Dep. Variable:                 shares   No. Observations:                 4280\n",
      "Model:                          Logit   Df Residuals:                     4278\n",
      "Method:                           MLE   Df Model:                            1\n",
      "Date:                Tue, 26 Apr 2022   Pseudo R-squ.:                     inf\n",
      "Time:                        16:37:24   Log-Likelihood:                -68.499\n",
      "converged:                       True   LL-Null:                        0.0000\n",
      "Covariance Type:            nonrobust   LLR p-value:                     1.000\n",
      "=======================================================================================\n",
      "                          coef    std err          z      P>|z|      [0.025      0.975]\n",
      "---------------------------------------------------------------------------------------\n",
      "const                  -3.9729      0.334    -11.881      0.000      -4.628      -3.318\n",
      "demand_instruments0    -0.0014      0.002     -0.895      0.371      -0.004       0.002\n",
      "=======================================================================================\n"
     ]
    },
    {
     "name": "stderr",
     "output_type": "stream",
     "text": [
      "/home/erichschulman/anaconda3/lib/python3.9/site-packages/statsmodels/discrete/discrete_model.py:3500: RuntimeWarning: divide by zero encountered in double_scalars\n",
      "  return 1 - self.llf/self.llnull\n"
     ]
    },
    {
     "data": {
      "image/png": "[encoded data removed]",
      "text/plain": [
       "<Figure size 432x288 with 1 Axes>"
      ]
     },
     "metadata": {
      "needs_background": "light"
     },
     "output_type": "display_data"
    },
    {
     "data": {
      "image/png": "[encoded data removed]",
      "text/plain": [
       "<Figure size 432x288 with 1 Axes>"
      ]
     },
     "metadata": {
      "needs_background": "light"
     },
     "output_type": "display_data"
    }
   ],
   "source": [
    "#print fit\n",
    "print(model_fit.summary())\n",
    "\n",
    "#evaluating model fit...\n",
    "blp_pred = pred_shares*X_test['DP03_0095E']\n",
    "true_shares = X_test['shares']*X_test['DP03_0095E']\n",
    "\n",
    "split = 5000\n",
    "plt.title('>'+str(split))\n",
    "plt.hist(blp_pred[true_shares >=split],label='True',alpha=.5,density=True)\n",
    "plt.hist(true_shares[true_shares >=split],label='logit',alpha = .5,density=True)\n",
    "plt.legend()\n",
    "plt.show()\n",
    "\n",
    "\n",
    "plt.title('<'+str(split))\n",
    "plt.hist(blp_pred[true_shares <=split],label='True',alpha=.5,density=True)\n",
    "plt.hist(true_shares[true_shares <=split],label='logit',alpha = .5,density=True)\n",
    "plt.legend()\n",
    "plt.show()"
   ]
  },
  {
   "cell_type": "code",
   "execution_count": 6,
   "id": "38e72e18",
   "metadata": {
    "scrolled": false
   },
   "outputs": [
    {
     "name": "stdout",
     "output_type": "stream",
     "text": [
      "               pred  Ever Enrolled Count      pred_var    enroll_var  count\n",
      "State                                                                      \n",
      "IL     39071.162855          9448.500000  42754.249680  12872.878952      2\n",
      "AZ     37043.295100          6719.000000  33069.443726   5241.075462      2\n",
      "TX     21719.073597          9311.600000  19374.894033  11751.908490     10\n",
      "PA     21499.029815          8174.000000    438.819941   3882.016229      2\n",
      "MI     17150.171160          1737.200000   4795.837698    983.290242      5\n",
      "OH     16972.459230          5802.000000   1935.767077   6704.786499      2\n",
      "FL     16754.390916         27767.888889  10137.962062  27663.316867      9\n",
      "VA     12619.405976         21460.000000   7850.659360   8888.332240      2\n",
      "WI     12426.456960         28963.000000           NaN           NaN      1\n",
      "IN     12180.722578          3910.000000           NaN           NaN      1\n",
      "MO     11488.560862         22955.000000           NaN           NaN      1\n",
      "NJ     11250.311427          1690.333333   2158.700910   1377.772961      3\n",
      "OR     10556.836215         12047.500000    129.792778  16754.895180      2\n",
      "GA     10437.400140         15415.500000   2291.144423  21073.903400      2\n",
      "LA      5700.659096         15019.000000           NaN           NaN      1\n",
      "NC      5276.604054         20873.500000   4728.089396  18266.958961      4\n",
      "UT      1903.484850         13495.000000           NaN           NaN      1\n"
     ]
    }
   ],
   "source": [
    "def report_error(X_test,pred_shares):\n",
    "    pred_shares = np.array(pred_shares.copy())\n",
    "    X_test = X_test.copy()\n",
    "    X_test['error'] =  ((X_test['shares']- pred_shares)*X_test['DP03_0095E'])**2\n",
    "    X_test['pred'] = pred_shares*X_test['DP03_0095E']\n",
    "    result = X_test.merge(df, how='inner',left_index=True, right_index=True,suffixes=('_x',''))    \n",
    "    result = result.sort_values('error',ascending=False).head(50) \n",
    "\n",
    "    result_groupby = result.groupby('State')[['pred','Ever Enrolled Count','prices','csr_tot']].mean()\n",
    "    result_groupby = result.groupby('State')[['pred','Ever Enrolled Count']].mean()\n",
    "    result_groupby[['pred_var','enroll_var']] = result.groupby('State')[['pred','Ever Enrolled Count']].std()\n",
    "    result_groupby['count'] =result.groupby('State')['shares'].count()\n",
    "    result_groupby = result_groupby.sort_values('pred',ascending=False)\n",
    "    return result_groupby\n",
    "\n",
    "print(report_error(X_test,pred_shares))"
   ]
  },
  {
   "cell_type": "code",
   "execution_count": null,
   "id": "ab87d4c5",
   "metadata": {},
   "outputs": [],
   "source": []
  },
  {
   "cell_type": "code",
   "execution_count": null,
   "id": "1ccf3a50",
   "metadata": {},
   "outputs": [],
   "source": []
  },
  {
   "cell_type": "code",
   "execution_count": null,
   "id": "c3e9f254",
   "metadata": {},
   "outputs": [],
   "source": []
  },
  {
   "cell_type": "code",
   "execution_count": null,
   "id": "a7175917",
   "metadata": {},
   "outputs": [],
   "source": []
  }
 ],
 "metadata": {
  "kernelspec": {
   "display_name": "Python 3 (ipykernel)",
   "language": "python",
   "name": "python3"
  },
  "language_info": {
   "codemirror_mode": {
    "name": "ipython",
    "version": 3
   },
   "file_extension": ".py",
   "mimetype": "text/x-python",
   "name": "python",
   "nbconvert_exporter": "python",
   "pygments_lexer": "ipython3",
   "version": "3.9.7"
  }
 },
 "nbformat": 4,
 "nbformat_minor": 5
}
