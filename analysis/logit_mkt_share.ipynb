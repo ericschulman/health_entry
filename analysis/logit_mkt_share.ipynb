{
 "cells": [
  {
   "cell_type": "code",
   "execution_count": 1,
   "id": "8bed8808",
   "metadata": {},
   "outputs": [],
   "source": [
    "import pandas as pd\n",
    "import numpy as np\n",
    "import matplotlib.pylab as plt\n",
    "import random\n",
    "\n",
    "import statsmodels.api as sm\n",
    "from sklearn.model_selection import train_test_split"
   ]
  },
  {
   "cell_type": "code",
   "execution_count": 2,
   "id": "40572c2e",
   "metadata": {
    "scrolled": false
   },
   "outputs": [
    {
     "name": "stderr",
     "output_type": "stream",
     "text": [
      "/tmp/ipykernel_36644/672150436.py:54: SettingWithCopyWarning: \n",
      "A value is trying to be set on a copy of a slice from a DataFrame.\n",
      "Try using .loc[row_indexer,col_indexer] = value instead\n",
      "\n",
      "See the caveats in the documentation: https://pandas.pydata.org/pandas-docs/stable/user_guide/indexing.html#returning-a-view-versus-a-copy\n",
      "  blp_data[col] = blp_data[col]/blp_data[col].var()\n"
     ]
    }
   ],
   "source": [
    "df = pd.read_csv('../data/processed_data/merged_characteristics.csv')\n",
    "keys = ['HIOS ID', 'IssuerId', 'County', 'State', 'FIPS County Code', 'Policy County FIPS Code','County Name']\n",
    "\n",
    "\n",
    "#create market data...\n",
    "df['shares'] = df['Ever Enrolled Count']/df['DP03_0095E']\n",
    "\n",
    "#add blp columns\n",
    "df['prices'] = df['EHBPercentTotalPremium']\n",
    "df['product_ids'] = df['IssuerId'].astype(str) +  df['County'].astype(str) \n",
    "df['market_ids'] = df['County']\n",
    "df['firm_ids'] = df['IssuerId']\n",
    "\n",
    "#demand_instrument0\n",
    "MktIds = np.array(pd.get_dummies(df['IssuerId']))\n",
    "MktIds2 = (MktIds.T).dot(MktIds)\n",
    "dummies_proj = MktIds.dot( np.linalg.inv( MktIds2 ) ).dot( MktIds.T )\n",
    "df['demand_instruments0'] = dummies_proj.dot(df['prices']) #average price across markets\n",
    "\n",
    "\n",
    "#fix problematic columns =\n",
    "df = df.rename(columns={'Average Monthly Advanced CSR Payment for Consumers with 94%':'csr_pay_94',\n",
    "                  'Average Monthly Advanced CSR Payment for Consumers with 87%':'csr_pay_87',\n",
    "                       'Total Number of Consumers':'csr_tot',\n",
    "                        'Number of Consumers with CSR AV of 94%':'csr_tot_94'})\n",
    "\n",
    "#create mkt share data\n",
    "blp_keys = ['market_ids', 'product_ids', 'firm_ids', 'shares', 'prices','demand_instruments0']\n",
    "\n",
    "nonlinear_cols = ['csr_pay_94']\n",
    "#nonlinear_cols = ['csr_pay_94','PREMI27']\n",
    "#['SBCHavingDiabetesCopayment','SBCHavingaBabyCoinsurance'\n",
    "#'act_value','csr_pay_94','csr_pay_87','SBCHavingDiabetesCopayment','SBCHavingaBabyCoinsurance']\n",
    "\n",
    "linear_cols = [ 'act_value', 'MetalLevel_Silver','MetalLevel_Platinum']#\n",
    "#['CompositeRatingOffered_No','MetalLevel_Silver','MetalLevel_Platinum',\n",
    "# 'BeginPrimaryCareCostSharingAfterNumberOfVisits' , 'csr_tot', 'csr_tot_94', 'PlanType_Indemnity']            \n",
    "#'CSRVariationTypeBinary','DentalOnlyPlan_No','CompositeRatingOffered_No',\n",
    "\n",
    "firm_cols =  linear_cols+ nonlinear_cols    \n",
    "\n",
    "\n",
    "mkt_cols = [ 'DP05_0015PE' ,'DP05_0069PE','DP03_0001PE','S1701_C01_017E']\n",
    "#mkt_cols = [ 'DP05_0069PE','DP03_0001PE','S1701_C01_017E']\n",
    "#mkt_cols = [ 'DP05_0015PE' ,'DP05_0069PE','DP03_0001PE','S1701_C01_017E','S1701_C01_014E','DP05_0072PE']\n",
    "\n",
    "\n",
    "blp_data = df[blp_keys+linear_cols+nonlinear_cols+mkt_cols+['DP03_0095E']]\n",
    "\n",
    "\n",
    "#standardize the cols\n",
    "for col in firm_cols:\n",
    "    #this line is causing a warning?\n",
    "    blp_data[col] = blp_data[col]/blp_data[col].var()\n",
    "\n",
    "#zero shares are not okay?\n",
    "blp_data = blp_data[blp_data['shares']!=0]"
   ]
  },
  {
   "cell_type": "code",
   "execution_count": 3,
   "id": "52cd858b",
   "metadata": {},
   "outputs": [
    {
     "name": "stdout",
     "output_type": "stream",
     "text": [
      "       Ever Enrolled Count    prices  MetalLevel_Silver        csr_tot  count\n",
      "State                                                                        \n",
      "NE              178.666667  1.000000           0.333333     289.466667     15\n",
      "UT             3039.272727  0.979380           0.400000    2682.454545     11\n",
      "VA              894.500000  0.652174           0.347826     901.500000      6\n",
      "NC             2907.600000  1.000000           0.400000    2882.600000      5\n",
      "FL           104536.250000  0.947717           0.300000  162676.500000      4\n",
      "TX              130.666667  1.000000           0.333333     131.666667      3\n",
      "WI              994.000000  0.995937           0.527778    1271.333333      3\n",
      "MI              731.000000  0.000000           0.000000     669.000000      1\n",
      "MO              607.000000  0.562500           0.250000     670.000000      1\n",
      "MT              316.000000  1.000000           0.500000     377.000000      1\n"
     ]
    },
    {
     "data": {
      "image/png": "[encoded data removed]",
      "text/plain": [
       "<Figure size 432x288 with 1 Axes>"
      ]
     },
     "metadata": {
      "needs_background": "light"
     },
     "output_type": "display_data"
    }
   ],
   "source": [
    "highest_shares = df[['shares','IssuerId','State','County Name',\n",
    "          'Ever Enrolled Count','DP03_0095E','act_value','prices','MetalLevel_Silver',\n",
    "    'csr_tot','csr_pay_94']].sort_values('shares',ascending=False).head(50)\n",
    "\n",
    "\n",
    "highest_share_groupy = highest_shares.groupby('State')[['Ever Enrolled Count','prices','MetalLevel_Silver','csr_tot']].mean()\n",
    "highest_share_groupy['count'] =highest_shares.groupby('State')['shares'].count()\n",
    "highest_share_groupy = highest_share_groupy.sort_values('count',ascending=False)\n",
    "print(highest_share_groupy)\n",
    "\n",
    "\n",
    "plt.hist(df['prices'][df['prices']>=.1])\n",
    "plt.show()"
   ]
  },
  {
   "cell_type": "code",
   "execution_count": 4,
   "id": "8ee38370",
   "metadata": {},
   "outputs": [
    {
     "name": "stderr",
     "output_type": "stream",
     "text": [
      "/home/erichschulman/anaconda3/lib/python3.9/site-packages/statsmodels/tsa/tsatools.py:142: FutureWarning: In a future version of pandas all arguments of concat except for the argument 'objs' will be keyword-only\n",
      "  x = pd.concat(x[::order], 1)\n"
     ]
    },
    {
     "name": "stdout",
     "output_type": "stream",
     "text": [
      "mse normalized trial  0.8694050422771018\n",
      "mse normalized trial  0.947665276939429\n",
      "mse normalized trial  0.6990112882892031\n",
      "mse normalized trial  0.7686172235018363\n",
      "mse normalized trial  0.7573633801692475\n",
      "mse normalized trial  1.1264793801498412\n",
      "mse normalized trial  0.7740576683312073\n",
      "mse normalized trial  0.8641195254735465\n",
      "mse normalized trial  0.8462184440151524\n",
      "mse normalized trial  0.7880329224246772\n",
      "mse 28490561.86786785 r2 0.15590298484287574\n",
      "mse med 26340450.564349413 r2 med 0.1828743167800852\n"
     ]
    }
   ],
   "source": [
    "#split into training and test\n",
    "test_size = 0.33\n",
    "X_train, X_test, y_train, y_test = train_test_split(blp_data, blp_data, test_size=test_size)\n",
    "\n",
    "training_test = []\n",
    "num_trials = 10\n",
    "for i in range(num_trials):\n",
    "    test_size = 0.33\n",
    "    X_train, X_test, y_train, y_test = train_test_split(blp_data, blp_data, test_size=test_size)\n",
    "    training_test.append( (X_train, X_test, y_train, y_test) )\n",
    "\n",
    "\n",
    "mses = []\n",
    "r2s = []\n",
    "model_fit = None\n",
    "pred_shares = None\n",
    "true_shares = None\n",
    "blp_pred = None\n",
    "\n",
    "for i in range(num_trials):\n",
    "    X_train, X_test, y_train, y_test = training_test[i]\n",
    "    model = sm.Logit(X_train['shares'],\n",
    "                     sm.add_constant(X_train[linear_cols+nonlinear_cols+mkt_cols+['prices']]))\n",
    "    model_fit = model.fit(disp=0)\n",
    "    \n",
    "    pred_shares = model_fit.predict(\n",
    "        sm.add_constant(X_test[linear_cols+nonlinear_cols+mkt_cols+['prices']]))\n",
    "    \n",
    "    #make predictions/figure out error\n",
    "    blp_pred = pred_shares*X_test['DP03_0095E']\n",
    "    true_shares = X_test['shares']*X_test['DP03_0095E']\n",
    "    error = blp_pred - true_shares\n",
    "    \n",
    "    mse = float( (error**2).mean() )\n",
    "    r2 = float( 1 - mse/true_shares.var() ) \n",
    "    mses.append(mse)\n",
    "    r2s.append(r2)\n",
    "    print('mse normalized trial ', float(mse/true_shares.var() ))\n",
    "    \n",
    "print( 'mse', np.array(mses).mean() ,'r2', np.array(r2s).mean()  )\n",
    "print( 'mse med', np.median(mses) ,'r2 med', np.median(r2s)  )"
   ]
  },
  {
   "cell_type": "code",
   "execution_count": 5,
   "id": "011b19f8",
   "metadata": {},
   "outputs": [
    {
     "name": "stderr",
     "output_type": "stream",
     "text": [
      "/home/erichschulman/anaconda3/lib/python3.9/site-packages/statsmodels/discrete/discrete_model.py:3500: RuntimeWarning: divide by zero encountered in double_scalars\n",
      "  return 1 - self.llf/self.llnull\n"
     ]
    },
    {
     "name": "stdout",
     "output_type": "stream",
     "text": [
      "                           Logit Regression Results                           \n",
      "==============================================================================\n",
      "Dep. Variable:                 shares   No. Observations:                 3635\n",
      "Model:                          Logit   Df Residuals:                     3625\n",
      "Method:                           MLE   Df Model:                            9\n",
      "Date:                Mon, 25 Apr 2022   Pseudo R-squ.:                     inf\n",
      "Time:                        20:46:34   Log-Likelihood:                -58.254\n",
      "converged:                       True   LL-Null:                        0.0000\n",
      "Covariance Type:            nonrobust   LLR p-value:                     1.000\n",
      "=======================================================================================\n",
      "                          coef    std err          z      P>|z|      [0.025      0.975]\n",
      "---------------------------------------------------------------------------------------\n",
      "const                  -4.0176      2.395     -1.678      0.093      -8.711       0.676\n",
      "act_value              -0.3727      0.884     -0.422      0.673      -2.105       1.360\n",
      "MetalLevel_Silver       0.0052      0.019      0.276      0.782      -0.032       0.042\n",
      "MetalLevel_Platinum     0.0070      0.009      0.743      0.457      -0.011       0.025\n",
      "csr_pay_94              0.7441      3.855      0.193      0.847      -6.811       8.299\n",
      "DP05_0015PE             0.1144      0.081      1.421      0.155      -0.043       0.272\n",
      "DP05_0069PE             0.0509      0.089      0.572      0.567      -0.124       0.225\n",
      "DP03_0001PE         -6.713e-07   9.37e-07     -0.716      0.474   -2.51e-06    1.17e-06\n",
      "S1701_C01_017E       9.545e-05      0.000      0.453      0.651      -0.000       0.001\n",
      "prices                 -0.2745      0.602     -0.456      0.648      -1.454       0.905\n",
      "=======================================================================================\n"
     ]
    },
    {
     "data": {
      "image/png": "[encoded data removed]",
      "text/plain": [
       "<Figure size 432x288 with 1 Axes>"
      ]
     },
     "metadata": {
      "needs_background": "light"
     },
     "output_type": "display_data"
    },
    {
     "data": {
      "image/png": "[encoded data removed]",
      "text/plain": [
       "<Figure size 432x288 with 1 Axes>"
      ]
     },
     "metadata": {
      "needs_background": "light"
     },
     "output_type": "display_data"
    }
   ],
   "source": [
    "#print fit\n",
    "print(model_fit.summary())\n",
    "\n",
    "#evaluating model fit...\n",
    "blp_pred = pred_shares*X_test['DP03_0095E']\n",
    "true_shares = X_test['shares']*X_test['DP03_0095E']\n",
    "\n",
    "split = 5000\n",
    "plt.title('>'+str(split))\n",
    "plt.hist(blp_pred[true_shares >=split],label='True',alpha=.5,density=True)\n",
    "plt.hist(true_shares[true_shares >=split],label='logit',alpha = .5,density=True)\n",
    "plt.legend()\n",
    "plt.show()\n",
    "\n",
    "\n",
    "plt.title('<'+str(split))\n",
    "plt.hist(blp_pred[true_shares <=split],label='True',alpha=.5,density=True)\n",
    "plt.hist(true_shares[true_shares <=split],label='logit',alpha = .5,density=True)\n",
    "plt.legend()\n",
    "plt.show()"
   ]
  },
  {
   "cell_type": "code",
   "execution_count": 6,
   "id": "38e72e18",
   "metadata": {
    "scrolled": false
   },
   "outputs": [
    {
     "name": "stdout",
     "output_type": "stream",
     "text": [
      "               pred  Ever Enrolled Count     pred_var    enroll_var  count\n",
      "State                                                                     \n",
      "UT     38765.007980          5796.000000          NaN           NaN      1\n",
      "AZ     12733.837844         15716.333333   352.153571  21599.647042      3\n",
      "MI     10388.712071           795.500000  1351.705910   1082.420282      4\n",
      "FL     10366.791365          9601.900000  3556.094707   8438.688464     10\n",
      "NJ     10069.938521          1857.333333  2048.759763   1335.988523      3\n",
      "OH      8738.621711           379.000000  1590.874430     56.568542      2\n",
      "OR      7990.366665           336.000000          NaN           NaN      1\n",
      "PA      7916.916340         12738.000000  1430.419795  16544.884466      2\n",
      "TX      7576.742887         23094.700000  1882.541853  24077.369541     10\n",
      "GA      6029.545948         21442.000000   583.620151   6728.828130      2\n",
      "NC      5975.873435         17331.833333  2719.680515   5986.710496      6\n",
      "IL      5327.113247         47915.333333  1233.383729  35999.069520      3\n",
      "KS      4323.678085         12801.000000          NaN           NaN      1\n",
      "VA      4251.503598         11614.000000          NaN           NaN      1\n",
      "LA      3785.635589         14817.000000          NaN           NaN      1\n"
     ]
    }
   ],
   "source": [
    "def report_error(X_test,pred_shares):\n",
    "    pred_shares = np.array(pred_shares.copy())\n",
    "    X_test = X_test.copy()\n",
    "    X_test['error'] =  ((X_test['shares']- pred_shares)*X_test['DP03_0095E'])**2\n",
    "    X_test['pred'] = pred_shares*X_test['DP03_0095E']\n",
    "    result = X_test.merge(df, how='inner',left_index=True, right_index=True,suffixes=('_x',''))    \n",
    "    result = result.sort_values('error',ascending=False).head(50) \n",
    "    #plt.hist(result['Ever Enrolled Count'],label='true',alpha=.5,density=True)\n",
    "    #plt.hist(result['pred'],label='pred',alpha=.5,density=True)\n",
    "    #plt.legend()\n",
    "    #plt.show()\n",
    "    result_groupby = result.groupby('State')[['pred','Ever Enrolled Count','prices','csr_tot']].mean()\n",
    "    result_groupby = result.groupby('State')[['pred','Ever Enrolled Count']].mean()\n",
    "    result_groupby[['pred_var','enroll_var']] = result.groupby('State')[['pred','Ever Enrolled Count']].std()\n",
    "    result_groupby['count'] =result.groupby('State')['shares'].count()\n",
    "    result_groupby = result_groupby.sort_values('pred',ascending=False)\n",
    "    return result_groupby\n",
    "\n",
    "print(report_error(X_test,pred_shares))"
   ]
  },
  {
   "cell_type": "code",
   "execution_count": null,
   "id": "ab87d4c5",
   "metadata": {},
   "outputs": [],
   "source": []
  },
  {
   "cell_type": "code",
   "execution_count": null,
   "id": "1ccf3a50",
   "metadata": {},
   "outputs": [],
   "source": []
  },
  {
   "cell_type": "code",
   "execution_count": null,
   "id": "a7175917",
   "metadata": {},
   "outputs": [],
   "source": []
  }
 ],
 "metadata": {
  "kernelspec": {
   "display_name": "Python 3 (ipykernel)",
   "language": "python",
   "name": "python3"
  },
  "language_info": {
   "codemirror_mode": {
    "name": "ipython",
    "version": 3
   },
   "file_extension": ".py",
   "mimetype": "text/x-python",
   "name": "python",
   "nbconvert_exporter": "python",
   "pygments_lexer": "ipython3",
   "version": "3.9.7"
  }
 },
 "nbformat": 4,
 "nbformat_minor": 5
}
