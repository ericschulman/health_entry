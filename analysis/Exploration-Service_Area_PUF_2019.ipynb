{
 "cells": [
  {
   "cell_type": "code",
   "execution_count": 1,
   "id": "81601ce8",
   "metadata": {},
   "outputs": [],
   "source": [
    "import pandas as pd\n",
    "import numpy as np"
   ]
  },
  {
   "cell_type": "code",
   "execution_count": 2,
   "id": "7ef86cf9",
   "metadata": {},
   "outputs": [],
   "source": [
    "data_path = \"../data/\"\n",
    "df = pd.read_csv(data_path + 'Service_Area_PUF_2019.csv', encoding='cp1252')"
   ]
  },
  {
   "cell_type": "code",
   "execution_count": 3,
   "id": "685f4baa",
   "metadata": {},
   "outputs": [
    {
     "name": "stdout",
     "output_type": "stream",
     "text": [
      "There are 433 unique IssuerIds in the data.\n"
     ]
    }
   ],
   "source": [
    "print('There are', df['IssuerId'].nunique(), 'unique IssuerIds in the data.')"
   ]
  },
  {
   "cell_type": "code",
   "execution_count": 4,
   "id": "72bb6a23",
   "metadata": {},
   "outputs": [
    {
     "name": "stdout",
     "output_type": "stream",
     "text": [
      "There are 532 unique ServiceAreaNames in the data.\n"
     ]
    }
   ],
   "source": [
    "print('There are', df['ServiceAreaName'].nunique(), 'unique ServiceAreaNames in the data.')"
   ]
  },
  {
   "cell_type": "code",
   "execution_count": 5,
   "id": "3ee9d42b",
   "metadata": {},
   "outputs": [
    {
     "name": "stdout",
     "output_type": "stream",
     "text": [
      "There are 2461 unique counties in the data.\n"
     ]
    }
   ],
   "source": [
    "print('There are', df['County'].nunique(), 'unique counties in the data.')"
   ]
  },
  {
   "cell_type": "code",
   "execution_count": 6,
   "id": "ffd1f06d",
   "metadata": {},
   "outputs": [
    {
     "data": {
      "text/html": [
       "<div>\n",
       "<style scoped>\n",
       "    .dataframe tbody tr th:only-of-type {\n",
       "        vertical-align: middle;\n",
       "    }\n",
       "\n",
       "    .dataframe tbody tr th {\n",
       "        vertical-align: top;\n",
       "    }\n",
       "\n",
       "    .dataframe thead th {\n",
       "        text-align: right;\n",
       "    }\n",
       "</style>\n",
       "<table border=\"1\" class=\"dataframe\">\n",
       "  <thead>\n",
       "    <tr style=\"text-align: right;\">\n",
       "      <th></th>\n",
       "      <th>County</th>\n",
       "      <th>ServiceAreaName</th>\n",
       "    </tr>\n",
       "    <tr>\n",
       "      <th>SourceName</th>\n",
       "      <th></th>\n",
       "      <th></th>\n",
       "    </tr>\n",
       "  </thead>\n",
       "  <tbody>\n",
       "    <tr>\n",
       "      <th>HIOS</th>\n",
       "      <td>1274</td>\n",
       "      <td>278</td>\n",
       "    </tr>\n",
       "    <tr>\n",
       "      <th>OPM</th>\n",
       "      <td>0</td>\n",
       "      <td>1</td>\n",
       "    </tr>\n",
       "    <tr>\n",
       "      <th>SERFF</th>\n",
       "      <td>1187</td>\n",
       "      <td>269</td>\n",
       "    </tr>\n",
       "  </tbody>\n",
       "</table>\n",
       "</div>"
      ],
      "text/plain": [
       "            County  ServiceAreaName\n",
       "SourceName                         \n",
       "HIOS          1274              278\n",
       "OPM              0                1\n",
       "SERFF         1187              269"
      ]
     },
     "execution_count": 6,
     "metadata": {},
     "output_type": "execute_result"
    }
   ],
   "source": [
    "df.groupby('SourceName').agg({'County': 'nunique', 'ServiceAreaName': 'nunique'})"
   ]
  },
  {
   "cell_type": "code",
   "execution_count": 7,
   "id": "a1884dbd",
   "metadata": {},
   "outputs": [
    {
     "data": {
      "text/html": [
       "<div>\n",
       "<style scoped>\n",
       "    .dataframe tbody tr th:only-of-type {\n",
       "        vertical-align: middle;\n",
       "    }\n",
       "\n",
       "    .dataframe tbody tr th {\n",
       "        vertical-align: top;\n",
       "    }\n",
       "\n",
       "    .dataframe thead th {\n",
       "        text-align: right;\n",
       "    }\n",
       "</style>\n",
       "<table border=\"1\" class=\"dataframe\">\n",
       "  <thead>\n",
       "    <tr style=\"text-align: right;\">\n",
       "      <th></th>\n",
       "      <th>IssuerId</th>\n",
       "      <th>County</th>\n",
       "    </tr>\n",
       "  </thead>\n",
       "  <tbody>\n",
       "    <tr>\n",
       "      <th>0</th>\n",
       "      <td>21989</td>\n",
       "      <td>NaN</td>\n",
       "    </tr>\n",
       "    <tr>\n",
       "      <th>1</th>\n",
       "      <td>21989</td>\n",
       "      <td>2020.0</td>\n",
       "    </tr>\n",
       "    <tr>\n",
       "      <th>2</th>\n",
       "      <td>21989</td>\n",
       "      <td>2170.0</td>\n",
       "    </tr>\n",
       "    <tr>\n",
       "      <th>3</th>\n",
       "      <td>21989</td>\n",
       "      <td>2090.0</td>\n",
       "    </tr>\n",
       "    <tr>\n",
       "      <th>4</th>\n",
       "      <td>21989</td>\n",
       "      <td>NaN</td>\n",
       "    </tr>\n",
       "    <tr>\n",
       "      <th>...</th>\n",
       "      <td>...</td>\n",
       "      <td>...</td>\n",
       "    </tr>\n",
       "    <tr>\n",
       "      <th>113571644</th>\n",
       "      <td>94562</td>\n",
       "      <td>54107.0</td>\n",
       "    </tr>\n",
       "    <tr>\n",
       "      <th>113571645</th>\n",
       "      <td>94562</td>\n",
       "      <td>54109.0</td>\n",
       "    </tr>\n",
       "    <tr>\n",
       "      <th>113571646</th>\n",
       "      <td>94562</td>\n",
       "      <td>NaN</td>\n",
       "    </tr>\n",
       "    <tr>\n",
       "      <th>113571647</th>\n",
       "      <td>94562</td>\n",
       "      <td>NaN</td>\n",
       "    </tr>\n",
       "    <tr>\n",
       "      <th>113571648</th>\n",
       "      <td>94562</td>\n",
       "      <td>NaN</td>\n",
       "    </tr>\n",
       "  </tbody>\n",
       "</table>\n",
       "<p>113571649 rows × 2 columns</p>\n",
       "</div>"
      ],
      "text/plain": [
       "           IssuerId   County\n",
       "0             21989      NaN\n",
       "1             21989   2020.0\n",
       "2             21989   2170.0\n",
       "3             21989   2090.0\n",
       "4             21989      NaN\n",
       "...             ...      ...\n",
       "113571644     94562  54107.0\n",
       "113571645     94562  54109.0\n",
       "113571646     94562      NaN\n",
       "113571647     94562      NaN\n",
       "113571648     94562      NaN\n",
       "\n",
       "[113571649 rows x 2 columns]"
      ]
     },
     "execution_count": 7,
     "metadata": {},
     "output_type": "execute_result"
    }
   ],
   "source": [
    "# Cross Product\n",
    "df1 = df[['IssuerId']]\n",
    "df2 = df[['County']]\n",
    "merged = df1.merge(df2, how='cross')\n",
    "merged"
   ]
  },
  {
   "cell_type": "code",
   "execution_count": 8,
   "id": "2fdc6780",
   "metadata": {},
   "outputs": [
    {
     "name": "stderr",
     "output_type": "stream",
     "text": [
      "/var/folders/bp/5t2f518d2hvd2wc1pgv4_w_40000gn/T/ipykernel_9180/2047534556.py:2: SettingWithCopyWarning: \n",
      "A value is trying to be set on a copy of a slice from a DataFrame.\n",
      "Try using .loc[row_indexer,col_indexer] = value instead\n",
      "\n",
      "See the caveats in the documentation: https://pandas.pydata.org/pandas-docs/stable/user_guide/indexing.html#returning-a-view-versus-a-copy\n",
      "  issuer_county['Binary'] = 1\n"
     ]
    },
    {
     "data": {
      "text/html": [
       "<div>\n",
       "<style scoped>\n",
       "    .dataframe tbody tr th:only-of-type {\n",
       "        vertical-align: middle;\n",
       "    }\n",
       "\n",
       "    .dataframe tbody tr th {\n",
       "        vertical-align: top;\n",
       "    }\n",
       "\n",
       "    .dataframe thead th {\n",
       "        text-align: right;\n",
       "    }\n",
       "</style>\n",
       "<table border=\"1\" class=\"dataframe\">\n",
       "  <thead>\n",
       "    <tr style=\"text-align: right;\">\n",
       "      <th></th>\n",
       "      <th>IssuerId</th>\n",
       "      <th>County</th>\n",
       "      <th>Binary</th>\n",
       "    </tr>\n",
       "  </thead>\n",
       "  <tbody>\n",
       "    <tr>\n",
       "      <th>0</th>\n",
       "      <td>21989</td>\n",
       "      <td>NaN</td>\n",
       "      <td>1</td>\n",
       "    </tr>\n",
       "    <tr>\n",
       "      <th>1</th>\n",
       "      <td>21989</td>\n",
       "      <td>2020.0</td>\n",
       "      <td>1</td>\n",
       "    </tr>\n",
       "    <tr>\n",
       "      <th>2</th>\n",
       "      <td>21989</td>\n",
       "      <td>2170.0</td>\n",
       "      <td>1</td>\n",
       "    </tr>\n",
       "    <tr>\n",
       "      <th>3</th>\n",
       "      <td>21989</td>\n",
       "      <td>2090.0</td>\n",
       "      <td>1</td>\n",
       "    </tr>\n",
       "    <tr>\n",
       "      <th>4</th>\n",
       "      <td>38344</td>\n",
       "      <td>NaN</td>\n",
       "      <td>1</td>\n",
       "    </tr>\n",
       "    <tr>\n",
       "      <th>...</th>\n",
       "      <td>...</td>\n",
       "      <td>...</td>\n",
       "      <td>...</td>\n",
       "    </tr>\n",
       "    <tr>\n",
       "      <th>10652</th>\n",
       "      <td>50328</td>\n",
       "      <td>54107.0</td>\n",
       "      <td>1</td>\n",
       "    </tr>\n",
       "    <tr>\n",
       "      <th>10653</th>\n",
       "      <td>50328</td>\n",
       "      <td>54109.0</td>\n",
       "      <td>1</td>\n",
       "    </tr>\n",
       "    <tr>\n",
       "      <th>10654</th>\n",
       "      <td>53843</td>\n",
       "      <td>NaN</td>\n",
       "      <td>1</td>\n",
       "    </tr>\n",
       "    <tr>\n",
       "      <th>10655</th>\n",
       "      <td>76526</td>\n",
       "      <td>NaN</td>\n",
       "      <td>1</td>\n",
       "    </tr>\n",
       "    <tr>\n",
       "      <th>10656</th>\n",
       "      <td>94562</td>\n",
       "      <td>NaN</td>\n",
       "      <td>1</td>\n",
       "    </tr>\n",
       "  </tbody>\n",
       "</table>\n",
       "<p>10657 rows × 3 columns</p>\n",
       "</div>"
      ],
      "text/plain": [
       "       IssuerId   County  Binary\n",
       "0         21989      NaN       1\n",
       "1         21989   2020.0       1\n",
       "2         21989   2170.0       1\n",
       "3         21989   2090.0       1\n",
       "4         38344      NaN       1\n",
       "...         ...      ...     ...\n",
       "10652     50328  54107.0       1\n",
       "10653     50328  54109.0       1\n",
       "10654     53843      NaN       1\n",
       "10655     76526      NaN       1\n",
       "10656     94562      NaN       1\n",
       "\n",
       "[10657 rows x 3 columns]"
      ]
     },
     "execution_count": 8,
     "metadata": {},
     "output_type": "execute_result"
    }
   ],
   "source": [
    "issuer_county = df[['IssuerId', 'County']]\n",
    "issuer_county['Binary'] = 1\n",
    "issuer_county"
   ]
  },
  {
   "cell_type": "code",
   "execution_count": 9,
   "id": "322d6ebb",
   "metadata": {},
   "outputs": [
    {
     "data": {
      "text/html": [
       "<div>\n",
       "<style scoped>\n",
       "    .dataframe tbody tr th:only-of-type {\n",
       "        vertical-align: middle;\n",
       "    }\n",
       "\n",
       "    .dataframe tbody tr th {\n",
       "        vertical-align: top;\n",
       "    }\n",
       "\n",
       "    .dataframe thead th {\n",
       "        text-align: right;\n",
       "    }\n",
       "</style>\n",
       "<table border=\"1\" class=\"dataframe\">\n",
       "  <thead>\n",
       "    <tr style=\"text-align: right;\">\n",
       "      <th></th>\n",
       "      <th>IssuerId</th>\n",
       "      <th>County</th>\n",
       "      <th>Binary</th>\n",
       "    </tr>\n",
       "  </thead>\n",
       "  <tbody>\n",
       "    <tr>\n",
       "      <th>0</th>\n",
       "      <td>21989</td>\n",
       "      <td>NaN</td>\n",
       "      <td>1.0</td>\n",
       "    </tr>\n",
       "    <tr>\n",
       "      <th>1</th>\n",
       "      <td>21989</td>\n",
       "      <td>2020.0</td>\n",
       "      <td>1.0</td>\n",
       "    </tr>\n",
       "    <tr>\n",
       "      <th>2</th>\n",
       "      <td>21989</td>\n",
       "      <td>2170.0</td>\n",
       "      <td>1.0</td>\n",
       "    </tr>\n",
       "    <tr>\n",
       "      <th>3</th>\n",
       "      <td>21989</td>\n",
       "      <td>2090.0</td>\n",
       "      <td>1.0</td>\n",
       "    </tr>\n",
       "    <tr>\n",
       "      <th>4</th>\n",
       "      <td>21989</td>\n",
       "      <td>NaN</td>\n",
       "      <td>1.0</td>\n",
       "    </tr>\n",
       "    <tr>\n",
       "      <th>...</th>\n",
       "      <td>...</td>\n",
       "      <td>...</td>\n",
       "      <td>...</td>\n",
       "    </tr>\n",
       "    <tr>\n",
       "      <th>116467805</th>\n",
       "      <td>94562</td>\n",
       "      <td>54107.0</td>\n",
       "      <td>0.0</td>\n",
       "    </tr>\n",
       "    <tr>\n",
       "      <th>116467806</th>\n",
       "      <td>94562</td>\n",
       "      <td>54109.0</td>\n",
       "      <td>0.0</td>\n",
       "    </tr>\n",
       "    <tr>\n",
       "      <th>116467807</th>\n",
       "      <td>94562</td>\n",
       "      <td>NaN</td>\n",
       "      <td>1.0</td>\n",
       "    </tr>\n",
       "    <tr>\n",
       "      <th>116467808</th>\n",
       "      <td>94562</td>\n",
       "      <td>NaN</td>\n",
       "      <td>1.0</td>\n",
       "    </tr>\n",
       "    <tr>\n",
       "      <th>116467809</th>\n",
       "      <td>94562</td>\n",
       "      <td>NaN</td>\n",
       "      <td>1.0</td>\n",
       "    </tr>\n",
       "  </tbody>\n",
       "</table>\n",
       "<p>116467810 rows × 3 columns</p>\n",
       "</div>"
      ],
      "text/plain": [
       "           IssuerId   County  Binary\n",
       "0             21989      NaN     1.0\n",
       "1             21989   2020.0     1.0\n",
       "2             21989   2170.0     1.0\n",
       "3             21989   2090.0     1.0\n",
       "4             21989      NaN     1.0\n",
       "...             ...      ...     ...\n",
       "116467805     94562  54107.0     0.0\n",
       "116467806     94562  54109.0     0.0\n",
       "116467807     94562      NaN     1.0\n",
       "116467808     94562      NaN     1.0\n",
       "116467809     94562      NaN     1.0\n",
       "\n",
       "[116467810 rows x 3 columns]"
      ]
     },
     "execution_count": 9,
     "metadata": {},
     "output_type": "execute_result"
    }
   ],
   "source": [
    "merged = merged.merge(issuer_county, how='left')\n",
    "merged['Binary'] = merged['Binary'].fillna(0)\n",
    "merged"
   ]
  },
  {
   "cell_type": "code",
   "execution_count": 10,
   "id": "22267d39",
   "metadata": {},
   "outputs": [
    {
     "data": {
      "text/plain": [
       "0.0    107352613\n",
       "1.0      9115197\n",
       "Name: Binary, dtype: int64"
      ]
     },
     "execution_count": 10,
     "metadata": {},
     "output_type": "execute_result"
    }
   ],
   "source": [
    "merged['Binary'].value_counts()"
   ]
  },
  {
   "cell_type": "code",
   "execution_count": 11,
   "id": "c34ea57a",
   "metadata": {},
   "outputs": [],
   "source": [
    "# merged.to_csv('issuerid_county.csv')"
   ]
  },
  {
   "cell_type": "code",
   "execution_count": null,
   "id": "aebb4fd3",
   "metadata": {},
   "outputs": [],
   "source": []
  }
 ],
 "metadata": {
  "kernelspec": {
   "display_name": "Python 3 (ipykernel)",
   "language": "python",
   "name": "python3"
  },
  "language_info": {
   "codemirror_mode": {
    "name": "ipython",
    "version": 3
   },
   "file_extension": ".py",
   "mimetype": "text/x-python",
   "name": "python",
   "nbconvert_exporter": "python",
   "pygments_lexer": "ipython3",
   "version": "3.9.8"
  }
 },
 "nbformat": 4,
 "nbformat_minor": 5
}
