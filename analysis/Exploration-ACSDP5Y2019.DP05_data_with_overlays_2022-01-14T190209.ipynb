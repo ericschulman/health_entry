{
 "cells": [
  {
   "cell_type": "code",
   "execution_count": 1,
   "id": "10450094",
   "metadata": {},
   "outputs": [],
   "source": [
    "import pandas as pd\n",
    "import numpy as np"
   ]
  },
  {
   "cell_type": "code",
   "execution_count": 2,
   "id": "768f6554",
   "metadata": {},
   "outputs": [
    {
     "name": "stderr",
     "output_type": "stream",
     "text": [
      "/opt/homebrew/lib/python3.9/site-packages/IPython/core/interactiveshell.py:3444: DtypeWarning: Columns (0,2,4,6,8,10,12,16,18,20,21,22,23,24,25,26,27,28,30,32,34,36,38,40,42,44,46,48,49,50,51,52,53,54,55,56,58,60,61,62,63,64,65,66,67,68,69,72,74,76,77,78,79,80,82,84,85,86,87,88,89,90,91,92,94,96,98,100,102,104,106,108,112,114,116,118,120,122,128,130,132,133,134,135,136,137,138,139,140,141,142,143,144,145,146,147,148,149,150,151,152,153,154,155,156,157,158,159,160,161,162,163,164,165,166,167,168,169,170,171,172,173,174,175,176,177,178,179,180,181,182,183,184,185,186,187,188,189,190,191,192,193,194,195,196,197,198,199,200,201,202,203,204,205,206,207,208,209,210,211,212,213,214,215,216,217,218,219,220,221,222,223,224,225,226,227,228,229,230,231,232,233,234,235,236,237,238,239,240,241,242,243,244,245,246,247,248,250,252,253,254,255,256,257,258,259,260,261,262,263,264,265,266,267,268,269,270,271,272,273,274,275,276,278,280,282,284,285,286,287,288,289,290,291,292,293,294,295,296,297,298,299,300,302,304,305,306,307,308,309,310,311,312,313,314,315,316,317,318,319,320,321,322,323,324,325,326,327,328,329,330,331,332,333,334,335,336,337,338,339,340,341,344,345,346,348,349,350,351,352,353,354,355) have mixed types.Specify dtype option on import or set low_memory=False.\n",
      "  exec(code_obj, self.user_global_ns, self.user_ns)\n"
     ]
    }
   ],
   "source": [
    "data_path = \"../data/\"\n",
    "df = pd.read_csv(data_path + 'ACSDP5Y2019.DP05_data_with_overlays_2022-01-14T190209.csv')"
   ]
  },
  {
   "cell_type": "code",
   "execution_count": 3,
   "id": "b081fc37",
   "metadata": {},
   "outputs": [
    {
     "name": "stdout",
     "output_type": "stream",
     "text": [
      "There are 3221 unique GeoIDs in the data.\n"
     ]
    }
   ],
   "source": [
    "print('There are', df['GEO_ID'].nunique(), 'unique GeoIDs in the data.')"
   ]
  },
  {
   "cell_type": "code",
   "execution_count": null,
   "id": "f21cb10f",
   "metadata": {},
   "outputs": [],
   "source": []
  }
 ],
 "metadata": {
  "kernelspec": {
   "display_name": "Python 3 (ipykernel)",
   "language": "python",
   "name": "python3"
  },
  "language_info": {
   "codemirror_mode": {
    "name": "ipython",
    "version": 3
   },
   "file_extension": ".py",
   "mimetype": "text/x-python",
   "name": "python",
   "nbconvert_exporter": "python",
   "pygments_lexer": "ipython3",
   "version": "3.9.8"
  }
 },
 "nbformat": 4,
 "nbformat_minor": 5
}
