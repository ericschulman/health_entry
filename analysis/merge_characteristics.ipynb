{
 "cells": [
  {
   "cell_type": "code",
   "execution_count": 1,
   "id": "e1f25c7c",
   "metadata": {},
   "outputs": [],
   "source": [
    "import pandas as pd\n",
    "import numpy as np\n",
    "import warnings\n",
    "warnings.filterwarnings(\"ignore\")"
   ]
  },
  {
   "cell_type": "code",
   "execution_count": 2,
   "id": "5e9aabf7",
   "metadata": {},
   "outputs": [],
   "source": [
    "data_path = \"../data_subsidy/\"\n",
    "enroll_df = pd.read_csv(data_path + '2016-Issuer-Enrollment-Disenrollment-Report.csv',na_values=['*'])\n",
    "enroll_df = enroll_df[['HIOS ID','Policy County FIPS Code','Ever Enrolled Count']].fillna('0')\n",
    "#clean the column\n",
    "enroll_df['Ever Enrolled Count'] = enroll_df['Ever Enrolled Count'].apply(lambda x: int(x.replace(',','')) )"
   ]
  },
  {
   "cell_type": "markdown",
   "id": "817d39c4",
   "metadata": {},
   "source": [
    "# enrollment with issuer characteristics"
   ]
  },
  {
   "cell_type": "code",
   "execution_count": 3,
   "id": "0a1efe16",
   "metadata": {},
   "outputs": [],
   "source": [
    "service_df = pd.read_csv(data_path + 'ServiceArea_PUF_2016.csv', encoding='cp1252')\n",
    "service_df = service_df[['County','ServiceAreaId','IssuerId']]\n",
    "service_df = service_df.drop_duplicates()\n",
    "issuer_df = pd.read_csv('issuer_characteristics.csv')"
   ]
  },
  {
   "cell_type": "code",
   "execution_count": 4,
   "id": "cd3eb288",
   "metadata": {
    "scrolled": false
   },
   "outputs": [
    {
     "name": "stdout",
     "output_type": "stream",
     "text": [
      "(9413, 71)\n"
     ]
    }
   ],
   "source": [
    "issuer_service = issuer_df.merge(service_df, how='inner', on=['ServiceAreaId', 'IssuerId'])\n",
    "issuer_service = issuer_service[ ~issuer_service['County'].isna() ]\n",
    "\n",
    "#reorder the columns, drop service area\n",
    "col_order= ['IssuerId','County'] + list(issuer_service.columns)[2:-1]\n",
    "issuer_service = issuer_service[ col_order ]\n",
    "\n",
    "#group by county\n",
    "#pre_cols = list(issuer_service.columns)\n",
    "issuer_service = issuer_service.groupby(['IssuerId','County'],as_index=False).mean()\n",
    "#post_cols = list(issuer_service.columns)\n",
    "print(issuer_service.shape)\n",
    "#print(len(pre_cols),len(post_cols))"
   ]
  },
  {
   "cell_type": "code",
   "execution_count": 5,
   "id": "1072b365",
   "metadata": {},
   "outputs": [
    {
     "name": "stdout",
     "output_type": "stream",
     "text": [
      "(5723, 74)\n"
     ]
    }
   ],
   "source": [
    "enroll_issuer = enroll_df.merge(issuer_service, how='left', right_on=['County', 'IssuerId'],\n",
    "                                     left_on=['Policy County FIPS Code','HIOS ID'])\n",
    "enroll_issuer.to_csv('test3.csv')\n",
    "enroll_issuer = enroll_issuer[~enroll_issuer['IssuerId'].isna()]\n",
    "print(enroll_issuer.shape)"
   ]
  },
  {
   "cell_type": "markdown",
   "id": "b31d0014",
   "metadata": {},
   "source": [
    "# Merge with county characteristics"
   ]
  },
  {
   "cell_type": "code",
   "execution_count": 6,
   "id": "919dc3ce",
   "metadata": {},
   "outputs": [],
   "source": [
    "county = pd.read_csv('county_characteristics.csv')\n",
    "result = enroll_issuer.merge(county, how='left', left_on='County', right_on='County')\n",
    "result =result[~result['FIPS County Code'].isna()]\n",
    "result.to_csv('merged_characteristics.csv')"
   ]
  },
  {
   "cell_type": "markdown",
   "id": "7131e846",
   "metadata": {},
   "source": [
    "# Summary stats"
   ]
  },
  {
   "cell_type": "code",
   "execution_count": 7,
   "id": "f602a9b7",
   "metadata": {},
   "outputs": [
    {
     "data": {
      "text/plain": [
       "2141"
      ]
     },
     "execution_count": 7,
     "metadata": {},
     "output_type": "execute_result"
    }
   ],
   "source": [
    "result['Policy County FIPS Code'].nunique()"
   ]
  },
  {
   "cell_type": "code",
   "execution_count": 8,
   "id": "9a4bf6a9",
   "metadata": {},
   "outputs": [
    {
     "data": {
      "text/plain": [
       "185"
      ]
     },
     "execution_count": 8,
     "metadata": {},
     "output_type": "execute_result"
    }
   ],
   "source": [
    "result['IssuerId'].nunique()"
   ]
  },
  {
   "cell_type": "code",
   "execution_count": 9,
   "id": "e587ff46",
   "metadata": {},
   "outputs": [],
   "source": [
    "col_names = pd.Series(result.columns)\n",
    "#col_names.to_csv('col_names.csv')"
   ]
  },
  {
   "cell_type": "code",
   "execution_count": 10,
   "id": "aea92089",
   "metadata": {},
   "outputs": [
    {
     "data": {
      "text/plain": [
       "480"
      ]
     },
     "execution_count": 10,
     "metadata": {},
     "output_type": "execute_result"
    }
   ],
   "source": [
    "len(list(county.columns))"
   ]
  },
  {
   "cell_type": "code",
   "execution_count": null,
   "id": "0ac79b9c",
   "metadata": {},
   "outputs": [],
   "source": []
  },
  {
   "cell_type": "code",
   "execution_count": null,
   "id": "d3ae4c43",
   "metadata": {},
   "outputs": [],
   "source": []
  }
 ],
 "metadata": {
  "kernelspec": {
   "display_name": "Python 3",
   "language": "python",
   "name": "python3"
  },
  "language_info": {
   "codemirror_mode": {
    "name": "ipython",
    "version": 3
   },
   "file_extension": ".py",
   "mimetype": "text/x-python",
   "name": "python",
   "nbconvert_exporter": "python",
   "pygments_lexer": "ipython3",
   "version": "3.8.8"
  }
 },
 "nbformat": 4,
 "nbformat_minor": 5
}
