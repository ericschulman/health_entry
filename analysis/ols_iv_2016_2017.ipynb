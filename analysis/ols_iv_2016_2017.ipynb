{
 "cells": [
  {
   "cell_type": "code",
   "execution_count": 1,
   "id": "9247e8ad",
   "metadata": {},
   "outputs": [],
   "source": [
    "import pandas as pd\n",
    "import numpy as np\n",
    "import matplotlib.pylab as plt\n",
    "import statsmodels.api as sm\n",
    "import statsmodels.formula.api as smf\n",
    "from statsmodels.sandbox.regression.gmm import IV2SLS"
   ]
  },
  {
   "cell_type": "code",
   "execution_count": 2,
   "id": "f7f2d786",
   "metadata": {},
   "outputs": [
    {
     "name": "stderr",
     "output_type": "stream",
     "text": [
      "/home/erichschulman/anaconda3/lib/python3.9/site-packages/IPython/core/interactiveshell.py:3444: DtypeWarning: Columns (6) have mixed types.Specify dtype option on import or set low_memory=False.\n",
      "  exec(code_obj, self.user_global_ns, self.user_ns)\n"
     ]
    }
   ],
   "source": [
    "data_path = \"../data/processed_data/\"\n",
    "panel = pd.read_csv(data_path + \"panel.csv\", index_col=None)"
   ]
  },
  {
   "cell_type": "code",
   "execution_count": 3,
   "id": "94d9e198",
   "metadata": {},
   "outputs": [],
   "source": [
    "panel = panel.rename(columns={'Average Monthly Advanced CSR Payment for Consumers with 94%':'csr_pay_94',\n",
    "                              'Average Monthly Advanced CSR Payment for Consumers with 87%':'csr_pay_87',\n",
    "                              'Total Number of Consumers':'csr_tot',\n",
    "                              'Number of Consumers with CSR AV of 94%':'csr_tot_94',\n",
    "                             'Ever Enrolled Count':'ever_enrolled_count'})\n",
    "X = panel[['csr_pay_94', 'EHBPercentTotalPremium', 'act_value', 'MetalLevel_Silver','MetalLevel_Platinum','csr_tot', \n",
    "           'DP05_0015PE' ,'DP05_0069PE']]\n",
    "X = X.fillna(0)\n",
    "X = X.astype(str).astype(float)\n",
    "y = panel['ever_enrolled_count']\n",
    "y = y.astype(str).astype(float)"
   ]
  },
  {
   "cell_type": "code",
   "execution_count": 4,
   "id": "bd4816f6",
   "metadata": {},
   "outputs": [
    {
     "name": "stdout",
     "output_type": "stream",
     "text": [
      "                             OLS Regression Results                            \n",
      "===============================================================================\n",
      "Dep. Variable:     ever_enrolled_count   R-squared:                       0.198\n",
      "Model:                             OLS   Adj. R-squared:                  0.197\n",
      "Method:                  Least Squares   F-statistic:                     395.6\n",
      "Date:                 Thu, 05 May 2022   Prob (F-statistic):               0.00\n",
      "Time:                         17:54:51   Log-Likelihood:            -1.4330e+05\n",
      "No. Observations:                14474   AIC:                         2.866e+05\n",
      "Df Residuals:                    14464   BIC:                         2.867e+05\n",
      "Df Model:                            9                                         \n",
      "Covariance Type:             nonrobust                                         \n",
      "==========================================================================================\n",
      "                             coef    std err          t      P>|t|      [0.025      0.975]\n",
      "------------------------------------------------------------------------------------------\n",
      "Intercept               3018.7085    231.078     13.064      0.000    2565.767    3471.650\n",
      "Year_2016              -1925.8018    256.320     -7.513      0.000   -2428.222   -1423.382\n",
      "csr_pay_94                 0.2098      0.824      0.255      0.799      -1.405       1.825\n",
      "Year_2016:csr_pay_94       0.2098      0.824      0.255      0.799      -1.405       1.825\n",
      "act_value                 -7.2643      4.836     -1.502      0.133     -16.743       2.215\n",
      "EHBPercentTotalPremium   329.6324    276.181      1.194      0.233    -211.717     870.982\n",
      "MetalLevel_Silver       1308.0995    417.259      3.135      0.002     490.218    2125.981\n",
      "MetalLevel_Platinum     6373.7030    829.139      7.687      0.000    4748.485    7998.921\n",
      "csr_tot                    0.1392      0.003     50.809      0.000       0.134       0.145\n",
      "DP05_0015PE             -206.4933     20.031    -10.309      0.000    -245.756    -167.231\n",
      "DP05_0069PE              138.9903     16.499      8.424      0.000     106.650     171.330\n",
      "==============================================================================\n",
      "Omnibus:                    30331.479   Durbin-Watson:                   1.791\n",
      "Prob(Omnibus):                  0.000   Jarque-Bera (JB):        226576752.546\n",
      "Skew:                          17.807   Prob(JB):                         0.00\n",
      "Kurtosis:                     614.906   Cond. No.                     4.00e+18\n",
      "==============================================================================\n",
      "\n",
      "Notes:\n",
      "[1] Standard Errors assume that the covariance matrix of the errors is correctly specified.\n",
      "[2] The smallest eigenvalue is 2.26e-25. This might indicate that there are\n",
      "strong multicollinearity problems or that the design matrix is singular.\n"
     ]
    },
    {
     "data": {
      "text/plain": [
       "9030.13304335452"
      ]
     },
     "execution_count": 4,
     "metadata": {},
     "output_type": "execute_result"
    }
   ],
   "source": [
    "# Difference-in-difference to predict enrollments in 2016\n",
    "panel_1 = pd.get_dummies(panel, columns = ['Year'])\n",
    "panel_1 = panel_1.drop(columns=['Year_2017'])\n",
    "mod = smf.ols(formula='ever_enrolled_count ~ Year_2016 + csr_pay_94 + Year_2016*csr_pay_94 + act_value + EHBPercentTotalPremium + MetalLevel_Silver +MetalLevel_Platinum + csr_tot + csr_pay_94 + DP05_0015PE + DP05_0069PE', data=panel_1)\n",
    "res_1 = mod.fit()\n",
    "print(res_1.summary())\n",
    "res_1.params.sum()"
   ]
  },
  {
   "cell_type": "code",
   "execution_count": 5,
   "id": "b7a8c7d3",
   "metadata": {},
   "outputs": [
    {
     "name": "stdout",
     "output_type": "stream",
     "text": [
      "                             OLS Regression Results                            \n",
      "===============================================================================\n",
      "Dep. Variable:     ever_enrolled_count   R-squared:                       0.198\n",
      "Model:                             OLS   Adj. R-squared:                  0.197\n",
      "Method:                  Least Squares   F-statistic:                     395.6\n",
      "Date:                 Thu, 05 May 2022   Prob (F-statistic):               0.00\n",
      "Time:                         17:54:51   Log-Likelihood:            -1.4330e+05\n",
      "No. Observations:                14474   AIC:                         2.866e+05\n",
      "Df Residuals:                    14464   BIC:                         2.867e+05\n",
      "Df Model:                            9                                         \n",
      "Covariance Type:             nonrobust                                         \n",
      "==========================================================================================\n",
      "                             coef    std err          t      P>|t|      [0.025      0.975]\n",
      "------------------------------------------------------------------------------------------\n",
      "Intercept               1092.9067    249.615      4.378      0.000     603.629    1582.185\n",
      "Year_2017               1925.8018    256.320      7.513      0.000    1423.382    2428.222\n",
      "csr_pay_94                 0.4197      1.648      0.255      0.799      -2.811       3.650\n",
      "Year_2017:csr_pay_94    -1.43e-11   1.65e-12     -8.663      0.000   -1.75e-11   -1.11e-11\n",
      "act_value                 -7.2643      4.836     -1.502      0.133     -16.743       2.215\n",
      "EHBPercentTotalPremium   329.6324    276.181      1.194      0.233    -211.717     870.982\n",
      "MetalLevel_Silver       1308.0995    417.259      3.135      0.002     490.218    2125.981\n",
      "MetalLevel_Platinum     6373.7030    829.139      7.687      0.000    4748.485    7998.921\n",
      "csr_tot                    0.1392      0.003     50.809      0.000       0.134       0.145\n",
      "DP05_0015PE             -206.4933     20.031    -10.309      0.000    -245.756    -167.231\n",
      "DP05_0069PE              138.9903     16.499      8.424      0.000     106.650     171.330\n",
      "==============================================================================\n",
      "Omnibus:                    30331.479   Durbin-Watson:                   1.791\n",
      "Prob(Omnibus):                  0.000   Jarque-Bera (JB):        226576752.546\n",
      "Skew:                          17.807   Prob(JB):                         0.00\n",
      "Kurtosis:                     614.906   Cond. No.                     3.83e+19\n",
      "==============================================================================\n",
      "\n",
      "Notes:\n",
      "[1] Standard Errors assume that the covariance matrix of the errors is correctly specified.\n",
      "[2] The smallest eigenvalue is 2.47e-27. This might indicate that there are\n",
      "strong multicollinearity problems or that the design matrix is singular.\n"
     ]
    },
    {
     "data": {
      "text/plain": [
       "10955.934849998644"
      ]
     },
     "execution_count": 5,
     "metadata": {},
     "output_type": "execute_result"
    }
   ],
   "source": [
    "# Difference-in-difference to predict enrollments in 2017\n",
    "panel_2 = pd.get_dummies(panel, columns = ['Year'])\n",
    "panel_2 = panel_2.drop(columns=['Year_2016'])\n",
    "mod = smf.ols(formula='ever_enrolled_count ~ Year_2017 + csr_pay_94 + Year_2017*csr_pay_94 + act_value + EHBPercentTotalPremium + MetalLevel_Silver +MetalLevel_Platinum + csr_tot + csr_pay_94 + DP05_0015PE + DP05_0069PE', data=panel_2)\n",
    "res_2 = mod.fit()\n",
    "print(res_2.summary())\n",
    "res_2.params.sum()"
   ]
  },
  {
   "cell_type": "code",
   "execution_count": 6,
   "id": "f47c1fbb",
   "metadata": {},
   "outputs": [
    {
     "data": {
      "text/plain": [
       "-1925.8018066441236"
      ]
     },
     "execution_count": 6,
     "metadata": {},
     "output_type": "execute_result"
    }
   ],
   "source": [
    "# Difference between 2016 and 2017\n",
    "res_1.params.sum() - res_2.params.sum()"
   ]
  },
  {
   "cell_type": "code",
   "execution_count": 7,
   "id": "af387a84",
   "metadata": {},
   "outputs": [],
   "source": [
    "# Hausman instrument for price and csr_pay_94\n",
    "MktIds = np.array(pd.get_dummies(panel['IssuerId']))\n",
    "MktIds2 = (MktIds.T).dot(MktIds)\n",
    "dummies_proj = MktIds.dot( np.linalg.inv( MktIds2 ) ).dot( MktIds.T )\n",
    "panel['demand_instruments0'] = dummies_proj.dot(panel['EHBPercentTotalPremium'])"
   ]
  },
  {
   "cell_type": "code",
   "execution_count": 8,
   "id": "18343d62",
   "metadata": {},
   "outputs": [
    {
     "name": "stdout",
     "output_type": "stream",
     "text": [
      "                           IV2SLS Regression Results                           \n",
      "===============================================================================\n",
      "Dep. Variable:     ever_enrolled_count   R-squared:                       0.190\n",
      "Model:                          IV2SLS   Adj. R-squared:                  0.189\n",
      "Method:                      Two Stage   F-statistic:                     433.7\n",
      "                         Least Squares   Prob (F-statistic):               0.00\n",
      "Date:                 Thu, 05 May 2022                                         \n",
      "Time:                         17:54:53                                         \n",
      "No. Observations:                14485                                         \n",
      "Df Residuals:                    14476                                         \n",
      "Df Model:                            8                                         \n",
      "==========================================================================================\n",
      "                             coef    std err          t      P>|t|      [0.025      0.975]\n",
      "------------------------------------------------------------------------------------------\n",
      "const                   2243.1123    221.262     10.138      0.000    1809.410    2676.814\n",
      "csr_pay_94               -10.7048      1.143     -9.366      0.000     -12.945      -8.464\n",
      "EHBPercentTotalPremium -2120.8516   2262.425     -0.937      0.349   -6555.494    2313.791\n",
      "act_value                 25.6334     32.174      0.797      0.426     -37.432      88.699\n",
      "MetalLevel_Silver       1522.2720    439.059      3.467      0.001     661.661    2382.883\n",
      "MetalLevel_Platinum     5958.7993    982.072      6.068      0.000    4033.813    7883.786\n",
      "csr_tot                    0.1357      0.003     48.989      0.000       0.130       0.141\n",
      "DP05_0015PE             -140.3562     18.227     -7.701      0.000    -176.083    -104.629\n",
      "DP05_0069PE              164.8032     16.217     10.163      0.000     133.016     196.590\n",
      "==============================================================================\n",
      "Omnibus:                    30229.246   Durbin-Watson:                   1.782\n",
      "Prob(Omnibus):                  0.000   Jarque-Bera (JB):        220705462.843\n",
      "Skew:                          17.639   Prob(JB):                         0.00\n",
      "Kurtosis:                     606.688   Cond. No.                     3.31e+05\n",
      "==============================================================================\n"
     ]
    },
    {
     "name": "stderr",
     "output_type": "stream",
     "text": [
      "/home/erichschulman/anaconda3/lib/python3.9/site-packages/statsmodels/tsa/tsatools.py:142: FutureWarning: In a future version of pandas all arguments of concat except for the argument 'objs' will be keyword-only\n",
      "  x = pd.concat(x[::order], 1)\n"
     ]
    },
    {
     "data": {
      "text/plain": [
       "7642.843461045832"
      ]
     },
     "execution_count": 8,
     "metadata": {},
     "output_type": "execute_result"
    }
   ],
   "source": [
    "# IV regression\n",
    "X_instr = X.copy()\n",
    "X_instr = X_instr.drop(columns='EHBPercentTotalPremium')\n",
    "X_instr['demand_instruments0'] = panel['demand_instruments0']\n",
    "\n",
    "iv_reg = IV2SLS(endog=y, exog=sm.add_constant(X), instrument=sm.add_constant(X_instr))\n",
    "res = iv_reg.fit()\n",
    "print(res.summary())\n",
    "res.params.sum()"
   ]
  },
  {
   "cell_type": "code",
   "execution_count": null,
   "id": "80bfdaf2",
   "metadata": {},
   "outputs": [],
   "source": []
  }
 ],
 "metadata": {
  "kernelspec": {
   "display_name": "Python 3 (ipykernel)",
   "language": "python",
   "name": "python3"
  },
  "language_info": {
   "codemirror_mode": {
    "name": "ipython",
    "version": 3
   },
   "file_extension": ".py",
   "mimetype": "text/x-python",
   "name": "python",
   "nbconvert_exporter": "python",
   "pygments_lexer": "ipython3",
   "version": "3.9.7"
  }
 },
 "nbformat": 4,
 "nbformat_minor": 5
}
