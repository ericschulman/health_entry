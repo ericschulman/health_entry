{
 "cells": [
  {
   "cell_type": "code",
   "execution_count": 1,
   "id": "01ee97aa",
   "metadata": {},
   "outputs": [],
   "source": [
    "import pandas as pd\n",
    "import numpy as np\n",
    "import re"
   ]
  },
  {
   "cell_type": "code",
   "execution_count": 2,
   "id": "073d407d",
   "metadata": {},
   "outputs": [
    {
     "name": "stderr",
     "output_type": "stream",
     "text": [
      "/home/erichschulman/anaconda3/lib/python3.8/site-packages/IPython/core/interactiveshell.py:3165: DtypeWarning: Columns (31,79,80,81,85,86,87,88,89,90,135,136,137,138) have mixed types.Specify dtype option on import or set low_memory=False.\n",
      "  has_raised = await self.run_ast_nodes(code_ast.body, cell_name,\n"
     ]
    }
   ],
   "source": [
    "column_info = pd.read_csv('plan_summary.csv')\n",
    "plan_data = pd.read_csv('../data_subsidy/Plan_Attributes_PUF_2016.csv')\n",
    "\n"
   ]
  },
  {
   "cell_type": "code",
   "execution_count": 3,
   "id": "a77b21ac",
   "metadata": {},
   "outputs": [
    {
     "name": "stdout",
     "output_type": "stream",
     "text": [
      "Index(['ServiceAreaId', 'IssuerId', 'TEHBOutOfNetFamilyPerGroupMOOP',\n",
      "       'TEHBInnTier1IndividualMOOP', 'TEHBOutOfNetIndividualMOOP',\n",
      "       'TEHBOutOfNetFamilyPerPersonMOOP', 'SBCHavingaBabyCoinsurance',\n",
      "       'SBCHavingaBabyCopayment', 'TEHBInnTier1FamilyPerPersonMOOP',\n",
      "       'SBCHavingDiabetesCopayment', 'SBCHavingDiabetesDeductible',\n",
      "       'TEHBCombInnOonFamilyPerPersonMOOP', 'SBCHavingaBabyDeductible',\n",
      "       'EHBPercentTotalPremium', 'SBCHavingDiabetesCoinsurance',\n",
      "       'TEHBCombInnOonFamilyPerGroupMOOP', 'TEHBCombInnOonIndividualMOOP',\n",
      "       'TEHBInnTier1FamilyPerGroupMOOP',\n",
      "       'OutOfServiceAreaCoverageDescription'],\n",
      "      dtype='object')\n"
     ]
    }
   ],
   "source": [
    "good_columns = column_info['Column_Name'][ (column_info['Missing_Values'] <= 3000) & (column_info['Missing_Values'] >= 0) & (column_info['Unique_Values'] >= 90) \n",
    "                  & (column_info['Unique_Values'] <= 370) ]\n",
    "good_columns = list(good_columns)\n",
    "\n",
    "#fix the set of columns to remove bad ones\n",
    "bad_columns = ['SBCHavingSimplefractureCoinsurance', \n",
    " 'SBCHavingSimplefractureCopayment', 'SBCHavingSimplefractureDeductible', 'ServiceAreaID']\n",
    "good_columns = list(set(good_columns) - set(bad_columns))\n",
    "\n",
    "\n",
    "# https://stackoverflow.com/questions/4703390/how-to-extract-a-floating-number-from-a-string\n",
    "clean_columns = plan_data[['ServiceAreaId','IssuerId']].copy()\n",
    "\n",
    "for column in good_columns:\n",
    "    #try to extract the text\n",
    "    test_column = plan_data[column].copy()\n",
    "    test_column = test_column.fillna(0)\n",
    "    \n",
    "    #if its just an int go with that\n",
    "    int_column = test_column.apply(lambda x : float( (re.findall(r'^-?\\d+(?:\\.\\d+)$',str(x)) +['0']) [0]) )\n",
    "    if int_column.nunique() >= 3:\n",
    "        clean_columns[column] = int_column\n",
    "        \n",
    "    #otherwise try something else\n",
    "    dollar_column = test_column.apply(lambda x : int((re.findall('\\\\$(\\\\d+)',str(x) ) +['0'])[0]) )\n",
    "    if dollar_column.nunique() >= 3:\n",
    "        clean_columns[column] = dollar_column\n",
    "\n",
    "print(clean_columns.columns)"
   ]
  },
  {
   "cell_type": "code",
   "execution_count": 4,
   "id": "dacf232c",
   "metadata": {},
   "outputs": [],
   "source": [
    "clean_columns.describe()\n",
    "clean_columns.to_csv('issuer_numeric.csv')"
   ]
  },
  {
   "cell_type": "code",
   "execution_count": null,
   "id": "3d871bba",
   "metadata": {},
   "outputs": [],
   "source": []
  },
  {
   "cell_type": "code",
   "execution_count": null,
   "id": "21a9e63e",
   "metadata": {},
   "outputs": [],
   "source": []
  },
  {
   "cell_type": "code",
   "execution_count": null,
   "id": "bc712d96",
   "metadata": {},
   "outputs": [],
   "source": []
  }
 ],
 "metadata": {
  "kernelspec": {
   "display_name": "Python 3",
   "language": "python",
   "name": "python3"
  },
  "language_info": {
   "codemirror_mode": {
    "name": "ipython",
    "version": 3
   },
   "file_extension": ".py",
   "mimetype": "text/x-python",
   "name": "python",
   "nbconvert_exporter": "python",
   "pygments_lexer": "ipython3",
   "version": "3.8.8"
  }
 },
 "nbformat": 4,
 "nbformat_minor": 5
}
