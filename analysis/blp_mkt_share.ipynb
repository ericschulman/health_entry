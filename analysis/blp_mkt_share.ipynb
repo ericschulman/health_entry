{
 "cells": [
  {
   "cell_type": "code",
   "execution_count": 1,
   "id": "8bed8808",
   "metadata": {},
   "outputs": [],
   "source": [
    "import pandas as pd\n",
    "import numpy as np\n",
    "import matplotlib.pylab as plt\n",
    "import random\n",
    "\n",
    "import pyblp\n",
    "import numpy as np\n",
    "import pandas as pd\n",
    "\n",
    "pyblp.options.digits = 2\n",
    "pyblp.options.verbose = False\n",
    "pyblp.__version__\n",
    "\n",
    "from sklearn.model_selection import train_test_split"
   ]
  },
  {
   "cell_type": "code",
   "execution_count": 2,
   "id": "40572c2e",
   "metadata": {
    "scrolled": false
   },
   "outputs": [
    {
     "name": "stderr",
     "output_type": "stream",
     "text": [
      "<ipython-input-2-4afcbbfa3c1b>:49: SettingWithCopyWarning: \n",
      "A value is trying to be set on a copy of a slice from a DataFrame.\n",
      "Try using .loc[row_indexer,col_indexer] = value instead\n",
      "\n",
      "See the caveats in the documentation: https://pandas.pydata.org/pandas-docs/stable/user_guide/indexing.html#returning-a-view-versus-a-copy\n",
      "  blp_data[col] = blp_data[col]/blp_data[col].var()\n"
     ]
    }
   ],
   "source": [
    "df = pd.read_csv('../data/processed_data/merged_characteristics.csv')\n",
    "keys = ['HIOS ID', 'IssuerId', 'County', 'State', 'FIPS County Code', 'Policy County FIPS Code','County Name']\n",
    "\n",
    "\n",
    "#create market data...\n",
    "df['shares'] = df['Ever Enrolled Count']/df['DP03_0095E']\n",
    "\n",
    "#add blp columns\n",
    "df['prices'] = df['EHBPercentTotalPremium']\n",
    "df['product_ids'] = df['IssuerId'].astype(str) +  df['County'].astype(str) \n",
    "df['market_ids'] = df['County']\n",
    "df['firm_ids'] = df['IssuerId']\n",
    "\n",
    "#demand_instrument0\n",
    "MktIds = np.array(pd.get_dummies(df['IssuerId']))\n",
    "MktIds2 = (MktIds.T).dot(MktIds)\n",
    "dummies_proj = MktIds.dot( np.linalg.inv( MktIds2 ) ).dot( MktIds.T )\n",
    "df['demand_instruments0'] = dummies_proj.dot(df['prices']) #average price across markets\n",
    "\n",
    "\n",
    "#fix problematic columns =\n",
    "df = df.rename(columns={'Average Monthly Advanced CSR Payment for Consumers with 94%':'csr_pay_94',\n",
    "                  'Average Monthly Advanced CSR Payment for Consumers with 87%':'csr_pay_87',\n",
    "                       'Total Number of Consumers':'csr_tot',\n",
    "                        'Number of Consumers with CSR AV of 94%':'csr_tot_94'})\n",
    "\n",
    "#create mkt share data\n",
    "blp_keys = ['market_ids', 'product_ids', 'firm_ids', 'shares', 'prices','demand_instruments0']\n",
    "\n",
    "nonlinear_cols = ['csr_pay_94']#,'SBCHavingDiabetesCopayment','SBCHavingaBabyCoinsurance']\n",
    "#['act_value','csr_pay_94','csr_pay_87','SBCHavingDiabetesCopayment','SBCHavingaBabyCoinsurance']\n",
    "\n",
    "linear_cols = [ 'act_value', 'MetalLevel_Silver','MetalLevel_Platinum','csr_tot']\n",
    "#['CompositeRatingOffered_No','MetalLevel_Silver','MetalLevel_Platinum',\n",
    "# 'BeginPrimaryCareCostSharingAfterNumberOfVisits' , 'csr_tot', 'csr_tot_94', 'PlanType_Indemnity']            \n",
    "#'CSRVariationTypeBinary','DentalOnlyPlan_No','CompositeRatingOffered_No',\n",
    "\n",
    "firm_cols =  linear_cols+ nonlinear_cols    \n",
    "mkt_cols = [ 'DP05_0015PE' ,'DP05_0069PE']\n",
    "#mkt_cols = [ 'DP05_0015PE' ,'DP05_0072PE', 'DP03_0029PE','DP05_0069PE']\n",
    "\n",
    "\n",
    "blp_data = df[blp_keys+linear_cols+nonlinear_cols+mkt_cols+['DP03_0095E']]\n",
    "\n",
    "\n",
    "#standardize the cols\n",
    "for col in firm_cols:\n",
    "    #this line is causing a warning?\n",
    "    blp_data[col] = blp_data[col]/blp_data[col].var()\n",
    "\n",
    "#zero shares are not okay?\n",
    "blp_data = blp_data[blp_data['shares']!=0]"
   ]
  },
  {
   "cell_type": "code",
   "execution_count": 3,
   "id": "8ee38370",
   "metadata": {},
   "outputs": [
    {
     "name": "stderr",
     "output_type": "stream",
     "text": [
      "<ipython-input-3-fe67115686f7>:10: SettingWithCopyWarning: \n",
      "A value is trying to be set on a copy of a slice from a DataFrame.\n",
      "Try using .loc[row_indexer,col_indexer] = value instead\n",
      "\n",
      "See the caveats in the documentation: https://pandas.pydata.org/pandas-docs/stable/user_guide/indexing.html#returning-a-view-versus-a-copy\n",
      "  product_data['market_ids'] = product_data['market_ids'].astype(str)\n"
     ]
    }
   ],
   "source": [
    "#split into training and test\n",
    "test_size = 0.33\n",
    "X_train, X_test, y_train, y_test = train_test_split(blp_data, blp_data, test_size=test_size)\n",
    "\n",
    "\n",
    "def setup_blp(X_train):\n",
    "\n",
    "    #set_up product/agent data\n",
    "    product_data = X_train[blp_keys+linear_cols+nonlinear_cols+mkt_cols]\n",
    "    product_data['market_ids'] = product_data['market_ids'].astype(str)\n",
    "\n",
    "    #setup agent data\n",
    "    agent_data = X_train[['market_ids']+ mkt_cols] #TODO CHANGE THIS for now cheat and add mkt cols\n",
    "    agent_data = agent_data.groupby('market_ids',as_index=False).mean()\n",
    "    agent_data['market_ids'] = agent_data['market_ids'].astype(str)\n",
    "    return product_data,agent_data\n",
    "\n",
    "product_data,agent_data = setup_blp(X_train)\n",
    "product_data_test,agent_data_test = setup_blp(X_test)"
   ]
  },
  {
   "cell_type": "code",
   "execution_count": 4,
   "id": "eef4d754",
   "metadata": {},
   "outputs": [
    {
     "name": "stdout",
     "output_type": "stream",
     "text": [
      "1 + prices + act_value + MetalLevel_Silver + MetalLevel_Platinum + csr_tot + DP05_0015PE + DP05_0069PE\n",
      "0 + prices + csr_pay_94\n"
     ]
    }
   ],
   "source": [
    "# do the estimation with just product characteristics?\n",
    "X1_formula = ''\n",
    "for i in (linear_cols+mkt_cols): #TODO CHANGE THIS for now cheat and add mkt cols\n",
    "    X1_formula = X1_formula +  i + ' + '\n",
    "X1_formula = '1 + prices + ' + X1_formula[:-3]\n",
    "\n",
    "print(X1_formula)\n",
    "\n",
    "\n",
    "X2_formula = ''\n",
    "for i in nonlinear_cols:\n",
    "    X2_formula = X2_formula + i + ' + '\n",
    "X2_formula = '0 + prices + ' + X2_formula[:-3]\n",
    "\n",
    "\n",
    "print(X2_formula)\n",
    "\n",
    "X1_formulation = pyblp.Formulation(X1_formula)\n",
    "X2_formulation = pyblp.Formulation(X2_formula)\n",
    "product_formulations = (X1_formulation, X2_formulation)"
   ]
  },
  {
   "cell_type": "code",
   "execution_count": 5,
   "id": "d1dabf8c",
   "metadata": {},
   "outputs": [
    {
     "data": {
      "text/plain": [
       "Problem Results Summary:\n",
       "=======================================================================================================\n",
       "GMM   Objective  Gradient      Hessian         Hessian     Clipped  Weighting Matrix  Covariance Matrix\n",
       "Step    Value      Norm    Min Eigenvalue  Max Eigenvalue  Shares   Condition Number  Condition Number \n",
       "----  ---------  --------  --------------  --------------  -------  ----------------  -----------------\n",
       " 2    +2.1E-18   +5.0E-09     -2.1E-02        +3.5E-03        0         +5.7E+11          +1.6E+20     \n",
       "=======================================================================================================\n",
       "\n",
       "Cumulative Statistics:\n",
       "===========================================================================\n",
       "Computation  Optimizer  Optimization   Objective   Fixed Point  Contraction\n",
       "   Time      Converged   Iterations   Evaluations  Iterations   Evaluations\n",
       "-----------  ---------  ------------  -----------  -----------  -----------\n",
       " 00:01:08       Yes          0             4          4600         16520   \n",
       "===========================================================================\n",
       "\n",
       "Nonlinear Coefficient Estimates (Robust SEs in Parentheses):\n",
       "==================================\n",
       "  Sigma:      prices    csr_pay_94\n",
       "----------  ----------  ----------\n",
       "  prices     +1.0E+00             \n",
       "            (+2.5E+00)            \n",
       "                                  \n",
       "csr_pay_94   +0.0E+00    +1.0E+00 \n",
       "                        (+1.9E+00)\n",
       "==================================\n",
       "\n",
       "Beta Estimates (Robust SEs in Parentheses):\n",
       "================================================================================================================\n",
       "    1         prices    act_value   MetalLevel_Silver  MetalLevel_Platinum   csr_tot    DP05_0015PE  DP05_0069PE\n",
       "----------  ----------  ----------  -----------------  -------------------  ----------  -----------  -----------\n",
       " -3.9E+00    -1.2E+00    -4.9E-01       +6.9E-03            +7.8E-03         -2.9E+03    +1.5E-01     +6.9E-02  \n",
       "(+4.4E-01)  (+2.3E+00)  (+1.6E-01)     (+2.8E-03)          (+1.7E-03)       (+2.0E-02)  (+1.4E-02)   (+2.6E-02) \n",
       "================================================================================================================"
      ]
     },
     "execution_count": 5,
     "metadata": {},
     "output_type": "execute_result"
    }
   ],
   "source": [
    "#numerical stuff\n",
    "mc_integration = pyblp.Integration('monte_carlo', size=50, specification_options={'seed': 0})\n",
    "mc_problem = pyblp.Problem(product_formulations, product_data, integration=mc_integration)\n",
    "bfgs = pyblp.Optimization('bfgs', {'gtol': 1e-2})\n",
    "\n",
    "\n",
    "#pi0 = np.zeros( (len(nonlinear_cols)+1,1) )\n",
    "#sigma0 = np.ones((len(nonlinear_cols)+1, len(nonlinear_cols)+1))\n",
    "sigma0 = np.eye(len(nonlinear_cols)+1)\n",
    "beta0 = np.zeros( (len(nonlinear_cols)+1,1))\n",
    "\n",
    "results1 = mc_problem.solve(sigma= sigma0,\n",
    "                            optimization=bfgs)#,integration=mc_integration)\n",
    "#TODO: Check if integration adds time?\n",
    "results1"
   ]
  },
  {
   "cell_type": "code",
   "execution_count": 6,
   "id": "40055eda",
   "metadata": {},
   "outputs": [],
   "source": [
    "mc_integration = pyblp.Integration('monte_carlo', size=50, specification_options={'seed': 0})\n",
    "\n",
    "sim_formulations = (X1_formulation, X2_formulation,\n",
    "                    pyblp.Formulation('0 + demand_instruments0'))\n",
    "\n",
    "xi = np.zeros(product_data_test.shape[0])\n",
    "\n",
    "simulation = pyblp.Simulation(product_formulations,\n",
    "   beta=results1.beta,\n",
    "   sigma=results1.sigma,\n",
    "   xi= xi,\n",
    "   product_data=product_data_test,\n",
    "   integration=mc_integration,\n",
    "   seed=0,\n",
    ")\n",
    "\n",
    "sim_results = simulation.replace_endogenous(costs=xi,iteration=pyblp.Iteration('return'))\n",
    "pred_shares = sim_results.product_data.shares"
   ]
  },
  {
   "cell_type": "code",
   "execution_count": 7,
   "id": "011b19f8",
   "metadata": {},
   "outputs": [
    {
     "name": "stdout",
     "output_type": "stream",
     "text": [
      "30678310.821543295\n"
     ]
    },
    {
     "data": {
      "image/png": "[encoded data removed]",
      "text/plain": [
       "<Figure size 432x288 with 1 Axes>"
      ]
     },
     "metadata": {
      "needs_background": "light"
     },
     "output_type": "display_data"
    },
    {
     "data": {
      "image/png": "[encoded data removed]",
      "text/plain": [
       "<Figure size 432x288 with 1 Axes>"
      ]
     },
     "metadata": {
      "needs_background": "light"
     },
     "output_type": "display_data"
    }
   ],
   "source": [
    "#evaluating model fit...\n",
    "error = (X_test['shares']- pred_shares.flatten())*X_test['DP03_0095E']\n",
    "print( (error**2).mean() )\n",
    "\n",
    "blp_pred = pred_shares.flatten()*X_test['DP03_0095E']\n",
    "true_shares = X_test['shares']*X_test['DP03_0095E']\n",
    "\n",
    "split =5000\n",
    "plt.title('>'+str(split))\n",
    "plt.hist(blp_pred[true_shares >=split],label='True',alpha=.5,density=True)\n",
    "plt.hist(true_shares[true_shares >=split],label='BLP',alpha = .5,density=True)\n",
    "plt.legend()\n",
    "plt.show()\n",
    "\n",
    "\n",
    "plt.title('<'+str(split))\n",
    "plt.hist(blp_pred[true_shares <=split],label='True',alpha=.5,density=True)\n",
    "plt.hist(true_shares[true_shares <=split],label='BLP',alpha = .5,density=True)\n",
    "plt.legend()\n",
    "plt.show()"
   ]
  },
  {
   "cell_type": "code",
   "execution_count": 11,
   "id": "faa05836",
   "metadata": {},
   "outputs": [
    {
     "name": "stdout",
     "output_type": "stream",
     "text": [
      "               pred  Ever Enrolled Count      pred_var    enroll_var  count\n",
      "State                                                                      \n",
      "IL     29232.697772          2427.000000           NaN           NaN      1\n",
      "AZ     26728.679592          9383.750000   8936.284738  13112.606146      8\n",
      "FL     25615.369263         35091.307692  21176.350424  45007.599955     13\n",
      "MI     17744.509495          1520.333333   3831.491016    923.805319      6\n",
      "NJ     15245.730973          1977.333333   2842.097835   1344.137394      3\n",
      "PA     14215.859970         22656.000000   4292.186811  21496.904265      3\n",
      "OH     12753.733560          2658.000000           NaN           NaN      1\n",
      "TX     12153.926559         23915.500000   4765.145843  23594.241533      6\n",
      "MO     10619.738170         22955.000000           NaN           NaN      1\n",
      "UT     10520.646303         16874.500000   2937.195399  22148.705707      2\n",
      "NC      8635.894913         22278.000000    524.745740   3408.254685      2\n",
      "VA      7311.130308         21460.000000   4271.719183   8888.332240      2\n",
      "GA      6930.590732         23656.500000     21.029248   3597.052196      2\n"
     ]
    }
   ],
   "source": [
    "def report_error(X_test,pred_shares):\n",
    "    pred_shares = np.array(pred_shares.copy()).flatten()\n",
    "    X_test = X_test.copy()\n",
    "    X_test['error'] =  ((X_test['shares']- pred_shares)*X_test['DP03_0095E'])**2\n",
    "    X_test['pred'] = pred_shares*X_test['DP03_0095E']\n",
    "    result = X_test.merge(df, how='inner',left_index=True, right_index=True,suffixes=('_x',''))\n",
    "    result = result.sort_values('error',ascending=False).head(50) \n",
    "    #plt.hist(result['Ever Enrolled Count'],label='true',alpha=.5,density=True)\n",
    "    #plt.hist(result['pred'],label='pred',alpha=.5,density=True)\n",
    "    #plt.legend()\n",
    "    #plt.show()\n",
    "    result_groupby = result.groupby('State')[['pred','Ever Enrolled Count']].mean()\n",
    "    result_groupby[['pred_var','enroll_var']] = result.groupby('State')[['pred','Ever Enrolled Count']].std()\n",
    "    result_groupby['count'] =result.groupby('State')['shares'].count()\n",
    "    result_groupby = result_groupby.sort_values('pred',ascending=False)\n",
    "    return result_groupby\n",
    "\n",
    "print(report_error(X_test,pred_shares))"
   ]
  },
  {
   "cell_type": "markdown",
   "id": "1947eaa2",
   "metadata": {},
   "source": [
    "# adding agents to the problem"
   ]
  },
  {
   "cell_type": "code",
   "execution_count": 9,
   "id": "ec4c405a",
   "metadata": {},
   "outputs": [
    {
     "data": {
      "text/plain": [
       "DP05_0015PE + DP05_0069PE"
      ]
     },
     "execution_count": 9,
     "metadata": {},
     "output_type": "execute_result"
    }
   ],
   "source": [
    "#add agents to the problem?\n",
    "agent_formula = ''\n",
    "for i in mkt_cols:\n",
    "    agent_formula = agent_formula + i + ' + '\n",
    "agent_formula = '0 + ' + agent_formula[:-3]\n",
    "\n",
    "\n",
    "agent_formulation = pyblp.Formulation(agent_formula)\n",
    "agent_formulation\n"
   ]
  },
  {
   "cell_type": "code",
   "execution_count": 10,
   "id": "851ac095",
   "metadata": {},
   "outputs": [],
   "source": [
    "mc_integration = pyblp.Integration('monte_carlo', size=1, specification_options={'seed': 0})\n",
    "\n",
    "full_problem = pyblp.Problem(\n",
    "    product_formulations,\n",
    "    product_data,\n",
    "    agent_formulation,\n",
    "    agent_data, \n",
    "    integration=mc_integration\n",
    ")\n",
    "\n",
    "\n",
    "bfgs = pyblp.Optimization('bfgs', {'gtol': 1e-2})\n",
    "\n",
    "\n",
    "#full_results = full_problem.solve(pi = np.eye(4), \n",
    "#                                  sigma=np.ones((len(nonlinear_cols)+1, len(nonlinear_cols)+1)),\n",
    "#                                  optimization=bfgs)\n",
    "\n",
    "#full_results"
   ]
  },
  {
   "cell_type": "code",
   "execution_count": null,
   "id": "38e72e18",
   "metadata": {},
   "outputs": [],
   "source": []
  },
  {
   "cell_type": "code",
   "execution_count": null,
   "id": "ab87d4c5",
   "metadata": {},
   "outputs": [],
   "source": []
  },
  {
   "cell_type": "code",
   "execution_count": null,
   "id": "1ccf3a50",
   "metadata": {},
   "outputs": [],
   "source": []
  },
  {
   "cell_type": "code",
   "execution_count": null,
   "id": "a7175917",
   "metadata": {},
   "outputs": [],
   "source": []
  }
 ],
 "metadata": {
  "kernelspec": {
   "display_name": "Python 3",
   "language": "python",
   "name": "python3"
  },
  "language_info": {
   "codemirror_mode": {
    "name": "ipython",
    "version": 3
   },
   "file_extension": ".py",
   "mimetype": "text/x-python",
   "name": "python",
   "nbconvert_exporter": "python",
   "pygments_lexer": "ipython3",
   "version": "3.8.8"
  }
 },
 "nbformat": 4,
 "nbformat_minor": 5
}
